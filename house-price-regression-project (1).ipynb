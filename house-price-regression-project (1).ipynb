{
 "cells": [
  {
   "cell_type": "markdown",
   "id": "450a681e",
   "metadata": {
    "papermill": {
     "duration": 0.049248,
     "end_time": "2022-02-25T21:36:04.271846",
     "exception": false,
     "start_time": "2022-02-25T21:36:04.222598",
     "status": "completed"
    },
    "tags": []
   },
   "source": [
    "**Import Libraries/Functions/Data**"
   ]
  },
  {
   "cell_type": "code",
   "execution_count": 1,
   "id": "768e2cfa",
   "metadata": {
    "execution": {
     "iopub.execute_input": "2022-02-25T21:36:04.373048Z",
     "iopub.status.busy": "2022-02-25T21:36:04.371899Z",
     "iopub.status.idle": "2022-02-25T21:36:07.524443Z",
     "shell.execute_reply": "2022-02-25T21:36:07.523734Z",
     "shell.execute_reply.started": "2022-02-25T21:26:44.452823Z"
    },
    "papermill": {
     "duration": 3.203482,
     "end_time": "2022-02-25T21:36:07.524600",
     "exception": false,
     "start_time": "2022-02-25T21:36:04.321118",
     "status": "completed"
    },
    "tags": []
   },
   "outputs": [
    {
     "data": {
      "text/html": [
       "<style type='text/css'>\n",
       ".datatable table.frame { margin-bottom: 0; }\n",
       ".datatable table.frame thead { border-bottom: none; }\n",
       ".datatable table.frame tr.coltypes td {  color: #FFFFFF;  line-height: 6px;  padding: 0 0.5em;}\n",
       ".datatable .bool    { background: #DDDD99; }\n",
       ".datatable .object  { background: #565656; }\n",
       ".datatable .int     { background: #5D9E5D; }\n",
       ".datatable .float   { background: #4040CC; }\n",
       ".datatable .str     { background: #CC4040; }\n",
       ".datatable .time    { background: #40CC40; }\n",
       ".datatable .row_index {  background: var(--jp-border-color3);  border-right: 1px solid var(--jp-border-color0);  color: var(--jp-ui-font-color3);  font-size: 9px;}\n",
       ".datatable .frame tbody td { text-align: left; }\n",
       ".datatable .frame tr.coltypes .row_index {  background: var(--jp-border-color0);}\n",
       ".datatable th:nth-child(2) { padding-left: 12px; }\n",
       ".datatable .hellipsis {  color: var(--jp-cell-editor-border-color);}\n",
       ".datatable .vellipsis {  background: var(--jp-layout-color0);  color: var(--jp-cell-editor-border-color);}\n",
       ".datatable .na {  color: var(--jp-cell-editor-border-color);  font-size: 80%;}\n",
       ".datatable .sp {  opacity: 0.25;}\n",
       ".datatable .footer { font-size: 9px; }\n",
       ".datatable .frame_dimensions {  background: var(--jp-border-color3);  border-top: 1px solid var(--jp-border-color0);  color: var(--jp-ui-font-color3);  display: inline-block;  opacity: 0.6;  padding: 1px 10px 1px 5px;}\n",
       "</style>\n"
      ],
      "text/plain": [
       "<IPython.core.display.HTML object>"
      ]
     },
     "metadata": {},
     "output_type": "display_data"
    }
   ],
   "source": [
    "#import libraries and functions\n",
    "import numpy as np\n",
    "import pandas as pd\n",
    "import seaborn as sns\n",
    "import scipy as scipy\n",
    "import scipy.stats as stats\n",
    "from datetime import datetime\n",
    "from scipy.stats import skew \n",
    "from scipy.special import boxcox1p\n",
    "from sklearn import preprocessing\n",
    "import matplotlib.pyplot as plt\n",
    "import matplotlib.gridspec as gridspec\n",
    "import matplotlib.style as style \n",
    "from sklearn.neighbors import KNeighborsRegressor\n",
    "from sklearn.preprocessing import StandardScaler\n",
    "from sklearn.linear_model import ElasticNetCV, LassoCV, RidgeCV\n",
    "from sklearn.ensemble import GradientBoostingRegressor \n",
    "from sklearn.svm import SVR\n",
    "from sklearn.pipeline import make_pipeline\n",
    "from sklearn.preprocessing import RobustScaler \n",
    "from sklearn.model_selection import KFold, cross_val_score\n",
    "from sklearn.metrics import mean_squared_error\n",
    "from mlxtend.regressor import StackingCVRegressor\n",
    "from xgboost import XGBRegressor\n",
    "from lightgbm import LGBMRegressor \n",
    "import sklearn.linear_model as linear_model\n",
    "from sklearn.manifold import TSNE\n",
    "from sklearn.cluster import KMeans\n",
    "from sklearn.decomposition import PCA\n",
    "from sklearn.preprocessing import StandardScaler\n",
    "import missingno as msno \n",
    "from sklearn import metrics\n",
    "from sklearn.datasets import load_iris"
   ]
  },
  {
   "cell_type": "code",
   "execution_count": 2,
   "id": "22431a88",
   "metadata": {
    "execution": {
     "iopub.execute_input": "2022-02-25T21:36:07.627462Z",
     "iopub.status.busy": "2022-02-25T21:36:07.626875Z",
     "iopub.status.idle": "2022-02-25T21:36:07.682464Z",
     "shell.execute_reply": "2022-02-25T21:36:07.683011Z",
     "shell.execute_reply.started": "2022-02-25T21:26:47.311683Z"
    },
    "papermill": {
     "duration": 0.107777,
     "end_time": "2022-02-25T21:36:07.683193",
     "exception": false,
     "start_time": "2022-02-25T21:36:07.575416",
     "status": "completed"
    },
    "tags": []
   },
   "outputs": [],
   "source": [
    "#import data\n",
    "train0 = pd.read_csv('../input/house-prices-advanced-regression-techniques/train.csv') #1-1460\n",
    "test0 = pd.read_csv('../input/house-prices-advanced-regression-techniques/test.csv') #1461-2919"
   ]
  },
  {
   "cell_type": "markdown",
   "id": "5c33a58c",
   "metadata": {
    "papermill": {
     "duration": 0.049974,
     "end_time": "2022-02-25T21:36:07.783092",
     "exception": false,
     "start_time": "2022-02-25T21:36:07.733118",
     "status": "completed"
    },
    "tags": []
   },
   "source": [
    "**Data Exploration/Data Cleansing**"
   ]
  },
  {
   "cell_type": "code",
   "execution_count": 3,
   "id": "4e1ab423",
   "metadata": {
    "execution": {
     "iopub.execute_input": "2022-02-25T21:36:07.887626Z",
     "iopub.status.busy": "2022-02-25T21:36:07.886975Z",
     "iopub.status.idle": "2022-02-25T21:36:07.898214Z",
     "shell.execute_reply": "2022-02-25T21:36:07.898752Z",
     "shell.execute_reply.started": "2022-02-25T21:26:47.380000Z"
    },
    "papermill": {
     "duration": 0.064077,
     "end_time": "2022-02-25T21:36:07.898918",
     "exception": false,
     "start_time": "2022-02-25T21:36:07.834841",
     "status": "completed"
    },
    "tags": []
   },
   "outputs": [
    {
     "data": {
      "text/plain": [
       "Id                 0\n",
       "MSSubClass         0\n",
       "MSZoning           0\n",
       "LotFrontage      259\n",
       "LotArea            0\n",
       "                ... \n",
       "MoSold             0\n",
       "YrSold             0\n",
       "SaleType           0\n",
       "SaleCondition      0\n",
       "SalePrice          0\n",
       "Length: 81, dtype: int64"
      ]
     },
     "execution_count": 3,
     "metadata": {},
     "output_type": "execute_result"
    }
   ],
   "source": [
    "# view the train set\n",
    "train0.info\n",
    "# sum over rows to get total number of missing values in each column\n",
    "train0.isna().sum()"
   ]
  },
  {
   "cell_type": "code",
   "execution_count": 4,
   "id": "f4a18049",
   "metadata": {
    "execution": {
     "iopub.execute_input": "2022-02-25T21:36:08.003753Z",
     "iopub.status.busy": "2022-02-25T21:36:08.003136Z",
     "iopub.status.idle": "2022-02-25T21:36:08.026213Z",
     "shell.execute_reply": "2022-02-25T21:36:08.026837Z",
     "shell.execute_reply.started": "2022-02-25T21:26:47.401502Z"
    },
    "papermill": {
     "duration": 0.077357,
     "end_time": "2022-02-25T21:36:08.027001",
     "exception": false,
     "start_time": "2022-02-25T21:36:07.949644",
     "status": "completed"
    },
    "tags": []
   },
   "outputs": [
    {
     "data": {
      "text/plain": [
       "SalePrice       1.000000\n",
       "OverallQual     0.625652\n",
       "GrLivArea       0.502149\n",
       "GarageCars      0.410124\n",
       "GarageArea      0.388667\n",
       "TotalBsmtSF     0.376481\n",
       "1stFlrSF        0.367057\n",
       "FullBath        0.314344\n",
       "TotRmsAbvGrd    0.284860\n",
       "YearBuilt       0.273422\n",
       "YearRemodAdd    0.257151\n",
       "GarageYrBlt     0.236548\n",
       "MasVnrArea      0.228000\n",
       "Fireplaces      0.218023\n",
       "BsmtFinSF1      0.149320\n",
       "LotFrontage     0.123763\n",
       "WoodDeckSF      0.105244\n",
       "2ndFlrSF        0.101974\n",
       "OpenPorchSF     0.099765\n",
       "HalfBath        0.080717\n",
       "Name: SalePrice, dtype: float64"
      ]
     },
     "execution_count": 4,
     "metadata": {},
     "output_type": "execute_result"
    }
   ],
   "source": [
    "#view squared correlation of all features to sales price to view potentially significant features\n",
    "(train0.corr()**2)[\"SalePrice\"].sort_values(ascending = False)[:20]\n",
    "# Early signs of multicollinearity, i.e Garage Cars and Garage Area"
   ]
  },
  {
   "cell_type": "code",
   "execution_count": 5,
   "id": "874b7b4c",
   "metadata": {
    "execution": {
     "iopub.execute_input": "2022-02-25T21:36:08.124507Z",
     "iopub.status.busy": "2022-02-25T21:36:08.118895Z",
     "iopub.status.idle": "2022-02-25T21:36:08.175427Z",
     "shell.execute_reply": "2022-02-25T21:36:08.176041Z",
     "shell.execute_reply.started": "2022-02-25T21:26:47.431688Z"
    },
    "papermill": {
     "duration": 0.098458,
     "end_time": "2022-02-25T21:36:08.176199",
     "exception": false,
     "start_time": "2022-02-25T21:36:08.077741",
     "status": "completed"
    },
    "tags": []
   },
   "outputs": [
    {
     "data": {
      "text/html": [
       "<div>\n",
       "<style scoped>\n",
       "    .dataframe tbody tr th:only-of-type {\n",
       "        vertical-align: middle;\n",
       "    }\n",
       "\n",
       "    .dataframe tbody tr th {\n",
       "        vertical-align: top;\n",
       "    }\n",
       "\n",
       "    .dataframe thead th {\n",
       "        text-align: right;\n",
       "    }\n",
       "</style>\n",
       "<table border=\"1\" class=\"dataframe\">\n",
       "  <thead>\n",
       "    <tr style=\"text-align: right;\">\n",
       "      <th></th>\n",
       "      <th>Id</th>\n",
       "      <th>MSSubClass</th>\n",
       "      <th>MSZoning</th>\n",
       "      <th>LotFrontage</th>\n",
       "      <th>LotArea</th>\n",
       "      <th>Street</th>\n",
       "      <th>Alley</th>\n",
       "      <th>LotShape</th>\n",
       "      <th>LandContour</th>\n",
       "      <th>Utilities</th>\n",
       "      <th>...</th>\n",
       "      <th>PoolArea</th>\n",
       "      <th>PoolQC</th>\n",
       "      <th>Fence</th>\n",
       "      <th>MiscFeature</th>\n",
       "      <th>MiscVal</th>\n",
       "      <th>MoSold</th>\n",
       "      <th>YrSold</th>\n",
       "      <th>SaleType</th>\n",
       "      <th>SaleCondition</th>\n",
       "      <th>SalePrice</th>\n",
       "    </tr>\n",
       "  </thead>\n",
       "  <tbody>\n",
       "    <tr>\n",
       "      <th>0</th>\n",
       "      <td>1</td>\n",
       "      <td>60</td>\n",
       "      <td>RL</td>\n",
       "      <td>65.0</td>\n",
       "      <td>8450</td>\n",
       "      <td>Pave</td>\n",
       "      <td>NaN</td>\n",
       "      <td>Reg</td>\n",
       "      <td>Lvl</td>\n",
       "      <td>AllPub</td>\n",
       "      <td>...</td>\n",
       "      <td>0</td>\n",
       "      <td>NaN</td>\n",
       "      <td>NaN</td>\n",
       "      <td>NaN</td>\n",
       "      <td>0</td>\n",
       "      <td>2</td>\n",
       "      <td>2008</td>\n",
       "      <td>WD</td>\n",
       "      <td>Normal</td>\n",
       "      <td>208500.0</td>\n",
       "    </tr>\n",
       "    <tr>\n",
       "      <th>1</th>\n",
       "      <td>2</td>\n",
       "      <td>20</td>\n",
       "      <td>RL</td>\n",
       "      <td>80.0</td>\n",
       "      <td>9600</td>\n",
       "      <td>Pave</td>\n",
       "      <td>NaN</td>\n",
       "      <td>Reg</td>\n",
       "      <td>Lvl</td>\n",
       "      <td>AllPub</td>\n",
       "      <td>...</td>\n",
       "      <td>0</td>\n",
       "      <td>NaN</td>\n",
       "      <td>NaN</td>\n",
       "      <td>NaN</td>\n",
       "      <td>0</td>\n",
       "      <td>5</td>\n",
       "      <td>2007</td>\n",
       "      <td>WD</td>\n",
       "      <td>Normal</td>\n",
       "      <td>181500.0</td>\n",
       "    </tr>\n",
       "    <tr>\n",
       "      <th>2</th>\n",
       "      <td>3</td>\n",
       "      <td>60</td>\n",
       "      <td>RL</td>\n",
       "      <td>68.0</td>\n",
       "      <td>11250</td>\n",
       "      <td>Pave</td>\n",
       "      <td>NaN</td>\n",
       "      <td>IR1</td>\n",
       "      <td>Lvl</td>\n",
       "      <td>AllPub</td>\n",
       "      <td>...</td>\n",
       "      <td>0</td>\n",
       "      <td>NaN</td>\n",
       "      <td>NaN</td>\n",
       "      <td>NaN</td>\n",
       "      <td>0</td>\n",
       "      <td>9</td>\n",
       "      <td>2008</td>\n",
       "      <td>WD</td>\n",
       "      <td>Normal</td>\n",
       "      <td>223500.0</td>\n",
       "    </tr>\n",
       "    <tr>\n",
       "      <th>3</th>\n",
       "      <td>4</td>\n",
       "      <td>70</td>\n",
       "      <td>RL</td>\n",
       "      <td>60.0</td>\n",
       "      <td>9550</td>\n",
       "      <td>Pave</td>\n",
       "      <td>NaN</td>\n",
       "      <td>IR1</td>\n",
       "      <td>Lvl</td>\n",
       "      <td>AllPub</td>\n",
       "      <td>...</td>\n",
       "      <td>0</td>\n",
       "      <td>NaN</td>\n",
       "      <td>NaN</td>\n",
       "      <td>NaN</td>\n",
       "      <td>0</td>\n",
       "      <td>2</td>\n",
       "      <td>2006</td>\n",
       "      <td>WD</td>\n",
       "      <td>Abnorml</td>\n",
       "      <td>140000.0</td>\n",
       "    </tr>\n",
       "    <tr>\n",
       "      <th>4</th>\n",
       "      <td>5</td>\n",
       "      <td>60</td>\n",
       "      <td>RL</td>\n",
       "      <td>84.0</td>\n",
       "      <td>14260</td>\n",
       "      <td>Pave</td>\n",
       "      <td>NaN</td>\n",
       "      <td>IR1</td>\n",
       "      <td>Lvl</td>\n",
       "      <td>AllPub</td>\n",
       "      <td>...</td>\n",
       "      <td>0</td>\n",
       "      <td>NaN</td>\n",
       "      <td>NaN</td>\n",
       "      <td>NaN</td>\n",
       "      <td>0</td>\n",
       "      <td>12</td>\n",
       "      <td>2008</td>\n",
       "      <td>WD</td>\n",
       "      <td>Normal</td>\n",
       "      <td>250000.0</td>\n",
       "    </tr>\n",
       "    <tr>\n",
       "      <th>...</th>\n",
       "      <td>...</td>\n",
       "      <td>...</td>\n",
       "      <td>...</td>\n",
       "      <td>...</td>\n",
       "      <td>...</td>\n",
       "      <td>...</td>\n",
       "      <td>...</td>\n",
       "      <td>...</td>\n",
       "      <td>...</td>\n",
       "      <td>...</td>\n",
       "      <td>...</td>\n",
       "      <td>...</td>\n",
       "      <td>...</td>\n",
       "      <td>...</td>\n",
       "      <td>...</td>\n",
       "      <td>...</td>\n",
       "      <td>...</td>\n",
       "      <td>...</td>\n",
       "      <td>...</td>\n",
       "      <td>...</td>\n",
       "      <td>...</td>\n",
       "    </tr>\n",
       "    <tr>\n",
       "      <th>1454</th>\n",
       "      <td>2915</td>\n",
       "      <td>160</td>\n",
       "      <td>RM</td>\n",
       "      <td>21.0</td>\n",
       "      <td>1936</td>\n",
       "      <td>Pave</td>\n",
       "      <td>NaN</td>\n",
       "      <td>Reg</td>\n",
       "      <td>Lvl</td>\n",
       "      <td>AllPub</td>\n",
       "      <td>...</td>\n",
       "      <td>0</td>\n",
       "      <td>NaN</td>\n",
       "      <td>NaN</td>\n",
       "      <td>NaN</td>\n",
       "      <td>0</td>\n",
       "      <td>6</td>\n",
       "      <td>2006</td>\n",
       "      <td>WD</td>\n",
       "      <td>Normal</td>\n",
       "      <td>NaN</td>\n",
       "    </tr>\n",
       "    <tr>\n",
       "      <th>1455</th>\n",
       "      <td>2916</td>\n",
       "      <td>160</td>\n",
       "      <td>RM</td>\n",
       "      <td>21.0</td>\n",
       "      <td>1894</td>\n",
       "      <td>Pave</td>\n",
       "      <td>NaN</td>\n",
       "      <td>Reg</td>\n",
       "      <td>Lvl</td>\n",
       "      <td>AllPub</td>\n",
       "      <td>...</td>\n",
       "      <td>0</td>\n",
       "      <td>NaN</td>\n",
       "      <td>NaN</td>\n",
       "      <td>NaN</td>\n",
       "      <td>0</td>\n",
       "      <td>4</td>\n",
       "      <td>2006</td>\n",
       "      <td>WD</td>\n",
       "      <td>Abnorml</td>\n",
       "      <td>NaN</td>\n",
       "    </tr>\n",
       "    <tr>\n",
       "      <th>1456</th>\n",
       "      <td>2917</td>\n",
       "      <td>20</td>\n",
       "      <td>RL</td>\n",
       "      <td>160.0</td>\n",
       "      <td>20000</td>\n",
       "      <td>Pave</td>\n",
       "      <td>NaN</td>\n",
       "      <td>Reg</td>\n",
       "      <td>Lvl</td>\n",
       "      <td>AllPub</td>\n",
       "      <td>...</td>\n",
       "      <td>0</td>\n",
       "      <td>NaN</td>\n",
       "      <td>NaN</td>\n",
       "      <td>NaN</td>\n",
       "      <td>0</td>\n",
       "      <td>9</td>\n",
       "      <td>2006</td>\n",
       "      <td>WD</td>\n",
       "      <td>Abnorml</td>\n",
       "      <td>NaN</td>\n",
       "    </tr>\n",
       "    <tr>\n",
       "      <th>1457</th>\n",
       "      <td>2918</td>\n",
       "      <td>85</td>\n",
       "      <td>RL</td>\n",
       "      <td>62.0</td>\n",
       "      <td>10441</td>\n",
       "      <td>Pave</td>\n",
       "      <td>NaN</td>\n",
       "      <td>Reg</td>\n",
       "      <td>Lvl</td>\n",
       "      <td>AllPub</td>\n",
       "      <td>...</td>\n",
       "      <td>0</td>\n",
       "      <td>NaN</td>\n",
       "      <td>MnPrv</td>\n",
       "      <td>Shed</td>\n",
       "      <td>700</td>\n",
       "      <td>7</td>\n",
       "      <td>2006</td>\n",
       "      <td>WD</td>\n",
       "      <td>Normal</td>\n",
       "      <td>NaN</td>\n",
       "    </tr>\n",
       "    <tr>\n",
       "      <th>1458</th>\n",
       "      <td>2919</td>\n",
       "      <td>60</td>\n",
       "      <td>RL</td>\n",
       "      <td>74.0</td>\n",
       "      <td>9627</td>\n",
       "      <td>Pave</td>\n",
       "      <td>NaN</td>\n",
       "      <td>Reg</td>\n",
       "      <td>Lvl</td>\n",
       "      <td>AllPub</td>\n",
       "      <td>...</td>\n",
       "      <td>0</td>\n",
       "      <td>NaN</td>\n",
       "      <td>NaN</td>\n",
       "      <td>NaN</td>\n",
       "      <td>0</td>\n",
       "      <td>11</td>\n",
       "      <td>2006</td>\n",
       "      <td>WD</td>\n",
       "      <td>Normal</td>\n",
       "      <td>NaN</td>\n",
       "    </tr>\n",
       "  </tbody>\n",
       "</table>\n",
       "<p>2919 rows × 81 columns</p>\n",
       "</div>"
      ],
      "text/plain": [
       "        Id  MSSubClass MSZoning  LotFrontage  LotArea Street Alley LotShape  \\\n",
       "0        1          60       RL         65.0     8450   Pave   NaN      Reg   \n",
       "1        2          20       RL         80.0     9600   Pave   NaN      Reg   \n",
       "2        3          60       RL         68.0    11250   Pave   NaN      IR1   \n",
       "3        4          70       RL         60.0     9550   Pave   NaN      IR1   \n",
       "4        5          60       RL         84.0    14260   Pave   NaN      IR1   \n",
       "...    ...         ...      ...          ...      ...    ...   ...      ...   \n",
       "1454  2915         160       RM         21.0     1936   Pave   NaN      Reg   \n",
       "1455  2916         160       RM         21.0     1894   Pave   NaN      Reg   \n",
       "1456  2917          20       RL        160.0    20000   Pave   NaN      Reg   \n",
       "1457  2918          85       RL         62.0    10441   Pave   NaN      Reg   \n",
       "1458  2919          60       RL         74.0     9627   Pave   NaN      Reg   \n",
       "\n",
       "     LandContour Utilities  ... PoolArea PoolQC  Fence MiscFeature MiscVal  \\\n",
       "0            Lvl    AllPub  ...        0    NaN    NaN         NaN       0   \n",
       "1            Lvl    AllPub  ...        0    NaN    NaN         NaN       0   \n",
       "2            Lvl    AllPub  ...        0    NaN    NaN         NaN       0   \n",
       "3            Lvl    AllPub  ...        0    NaN    NaN         NaN       0   \n",
       "4            Lvl    AllPub  ...        0    NaN    NaN         NaN       0   \n",
       "...          ...       ...  ...      ...    ...    ...         ...     ...   \n",
       "1454         Lvl    AllPub  ...        0    NaN    NaN         NaN       0   \n",
       "1455         Lvl    AllPub  ...        0    NaN    NaN         NaN       0   \n",
       "1456         Lvl    AllPub  ...        0    NaN    NaN         NaN       0   \n",
       "1457         Lvl    AllPub  ...        0    NaN  MnPrv        Shed     700   \n",
       "1458         Lvl    AllPub  ...        0    NaN    NaN         NaN       0   \n",
       "\n",
       "     MoSold YrSold  SaleType  SaleCondition  SalePrice  \n",
       "0         2   2008        WD         Normal   208500.0  \n",
       "1         5   2007        WD         Normal   181500.0  \n",
       "2         9   2008        WD         Normal   223500.0  \n",
       "3         2   2006        WD        Abnorml   140000.0  \n",
       "4        12   2008        WD         Normal   250000.0  \n",
       "...     ...    ...       ...            ...        ...  \n",
       "1454      6   2006        WD         Normal        NaN  \n",
       "1455      4   2006        WD        Abnorml        NaN  \n",
       "1456      9   2006        WD        Abnorml        NaN  \n",
       "1457      7   2006        WD         Normal        NaN  \n",
       "1458     11   2006        WD         Normal        NaN  \n",
       "\n",
       "[2919 rows x 81 columns]"
      ]
     },
     "execution_count": 5,
     "metadata": {},
     "output_type": "execute_result"
    }
   ],
   "source": [
    "#combine the test and train data along axis 0 to stack them on top of each other\n",
    "pd.concat([train0, test0], axis=0)"
   ]
  },
  {
   "cell_type": "code",
   "execution_count": 6,
   "id": "d8acf6de",
   "metadata": {
    "execution": {
     "iopub.execute_input": "2022-02-25T21:36:08.285365Z",
     "iopub.status.busy": "2022-02-25T21:36:08.284748Z",
     "iopub.status.idle": "2022-02-25T21:36:08.301806Z",
     "shell.execute_reply": "2022-02-25T21:36:08.302328Z",
     "shell.execute_reply.started": "2022-02-25T21:26:47.490565Z"
    },
    "papermill": {
     "duration": 0.075399,
     "end_time": "2022-02-25T21:36:08.302495",
     "exception": false,
     "start_time": "2022-02-25T21:36:08.227096",
     "status": "completed"
    },
    "tags": []
   },
   "outputs": [],
   "source": [
    "# drop the sales price column from both sets and remove ids from the train data, then \n",
    "# redefine sets with changes\n",
    "target = train0['SalePrice']\n",
    "test_ids = test0['Id']\n",
    "\n",
    "train1 = train0.drop(['Id','SalePrice'], axis = 1)\n",
    "test1 = test0.drop('Id', axis=1)\n",
    "\n",
    "data1=pd.concat([train1, test1,], axis = 0).reset_index(drop=True)\n"
   ]
  },
  {
   "cell_type": "code",
   "execution_count": 7,
   "id": "c38f2720",
   "metadata": {
    "execution": {
     "iopub.execute_input": "2022-02-25T21:36:08.416031Z",
     "iopub.status.busy": "2022-02-25T21:36:08.415155Z",
     "iopub.status.idle": "2022-02-25T21:36:08.434704Z",
     "shell.execute_reply": "2022-02-25T21:36:08.435212Z",
     "shell.execute_reply.started": "2022-02-25T21:26:47.517329Z"
    },
    "papermill": {
     "duration": 0.081431,
     "end_time": "2022-02-25T21:36:08.435372",
     "exception": false,
     "start_time": "2022-02-25T21:36:08.353941",
     "status": "completed"
    },
    "tags": []
   },
   "outputs": [
    {
     "data": {
      "text/html": [
       "<div>\n",
       "<style scoped>\n",
       "    .dataframe tbody tr th:only-of-type {\n",
       "        vertical-align: middle;\n",
       "    }\n",
       "\n",
       "    .dataframe tbody tr th {\n",
       "        vertical-align: top;\n",
       "    }\n",
       "\n",
       "    .dataframe thead th {\n",
       "        text-align: right;\n",
       "    }\n",
       "</style>\n",
       "<table border=\"1\" class=\"dataframe\">\n",
       "  <thead>\n",
       "    <tr style=\"text-align: right;\">\n",
       "      <th></th>\n",
       "      <th>MSSubClass</th>\n",
       "      <th>LotFrontage</th>\n",
       "      <th>LotArea</th>\n",
       "      <th>OverallQual</th>\n",
       "      <th>OverallCond</th>\n",
       "      <th>YearBuilt</th>\n",
       "      <th>YearRemodAdd</th>\n",
       "      <th>MasVnrArea</th>\n",
       "      <th>BsmtFinSF1</th>\n",
       "      <th>BsmtFinSF2</th>\n",
       "      <th>...</th>\n",
       "      <th>GarageArea</th>\n",
       "      <th>WoodDeckSF</th>\n",
       "      <th>OpenPorchSF</th>\n",
       "      <th>EnclosedPorch</th>\n",
       "      <th>3SsnPorch</th>\n",
       "      <th>ScreenPorch</th>\n",
       "      <th>PoolArea</th>\n",
       "      <th>MiscVal</th>\n",
       "      <th>MoSold</th>\n",
       "      <th>YrSold</th>\n",
       "    </tr>\n",
       "  </thead>\n",
       "  <tbody>\n",
       "    <tr>\n",
       "      <th>0</th>\n",
       "      <td>60</td>\n",
       "      <td>65.0</td>\n",
       "      <td>8450</td>\n",
       "      <td>7</td>\n",
       "      <td>5</td>\n",
       "      <td>2003</td>\n",
       "      <td>2003</td>\n",
       "      <td>196.0</td>\n",
       "      <td>706.0</td>\n",
       "      <td>0.0</td>\n",
       "      <td>...</td>\n",
       "      <td>548.0</td>\n",
       "      <td>0</td>\n",
       "      <td>61</td>\n",
       "      <td>0</td>\n",
       "      <td>0</td>\n",
       "      <td>0</td>\n",
       "      <td>0</td>\n",
       "      <td>0</td>\n",
       "      <td>2</td>\n",
       "      <td>2008</td>\n",
       "    </tr>\n",
       "    <tr>\n",
       "      <th>1</th>\n",
       "      <td>20</td>\n",
       "      <td>80.0</td>\n",
       "      <td>9600</td>\n",
       "      <td>6</td>\n",
       "      <td>8</td>\n",
       "      <td>1976</td>\n",
       "      <td>1976</td>\n",
       "      <td>0.0</td>\n",
       "      <td>978.0</td>\n",
       "      <td>0.0</td>\n",
       "      <td>...</td>\n",
       "      <td>460.0</td>\n",
       "      <td>298</td>\n",
       "      <td>0</td>\n",
       "      <td>0</td>\n",
       "      <td>0</td>\n",
       "      <td>0</td>\n",
       "      <td>0</td>\n",
       "      <td>0</td>\n",
       "      <td>5</td>\n",
       "      <td>2007</td>\n",
       "    </tr>\n",
       "    <tr>\n",
       "      <th>2</th>\n",
       "      <td>60</td>\n",
       "      <td>68.0</td>\n",
       "      <td>11250</td>\n",
       "      <td>7</td>\n",
       "      <td>5</td>\n",
       "      <td>2001</td>\n",
       "      <td>2002</td>\n",
       "      <td>162.0</td>\n",
       "      <td>486.0</td>\n",
       "      <td>0.0</td>\n",
       "      <td>...</td>\n",
       "      <td>608.0</td>\n",
       "      <td>0</td>\n",
       "      <td>42</td>\n",
       "      <td>0</td>\n",
       "      <td>0</td>\n",
       "      <td>0</td>\n",
       "      <td>0</td>\n",
       "      <td>0</td>\n",
       "      <td>9</td>\n",
       "      <td>2008</td>\n",
       "    </tr>\n",
       "    <tr>\n",
       "      <th>3</th>\n",
       "      <td>70</td>\n",
       "      <td>60.0</td>\n",
       "      <td>9550</td>\n",
       "      <td>7</td>\n",
       "      <td>5</td>\n",
       "      <td>1915</td>\n",
       "      <td>1970</td>\n",
       "      <td>0.0</td>\n",
       "      <td>216.0</td>\n",
       "      <td>0.0</td>\n",
       "      <td>...</td>\n",
       "      <td>642.0</td>\n",
       "      <td>0</td>\n",
       "      <td>35</td>\n",
       "      <td>272</td>\n",
       "      <td>0</td>\n",
       "      <td>0</td>\n",
       "      <td>0</td>\n",
       "      <td>0</td>\n",
       "      <td>2</td>\n",
       "      <td>2006</td>\n",
       "    </tr>\n",
       "    <tr>\n",
       "      <th>4</th>\n",
       "      <td>60</td>\n",
       "      <td>84.0</td>\n",
       "      <td>14260</td>\n",
       "      <td>8</td>\n",
       "      <td>5</td>\n",
       "      <td>2000</td>\n",
       "      <td>2000</td>\n",
       "      <td>350.0</td>\n",
       "      <td>655.0</td>\n",
       "      <td>0.0</td>\n",
       "      <td>...</td>\n",
       "      <td>836.0</td>\n",
       "      <td>192</td>\n",
       "      <td>84</td>\n",
       "      <td>0</td>\n",
       "      <td>0</td>\n",
       "      <td>0</td>\n",
       "      <td>0</td>\n",
       "      <td>0</td>\n",
       "      <td>12</td>\n",
       "      <td>2008</td>\n",
       "    </tr>\n",
       "    <tr>\n",
       "      <th>...</th>\n",
       "      <td>...</td>\n",
       "      <td>...</td>\n",
       "      <td>...</td>\n",
       "      <td>...</td>\n",
       "      <td>...</td>\n",
       "      <td>...</td>\n",
       "      <td>...</td>\n",
       "      <td>...</td>\n",
       "      <td>...</td>\n",
       "      <td>...</td>\n",
       "      <td>...</td>\n",
       "      <td>...</td>\n",
       "      <td>...</td>\n",
       "      <td>...</td>\n",
       "      <td>...</td>\n",
       "      <td>...</td>\n",
       "      <td>...</td>\n",
       "      <td>...</td>\n",
       "      <td>...</td>\n",
       "      <td>...</td>\n",
       "      <td>...</td>\n",
       "    </tr>\n",
       "    <tr>\n",
       "      <th>2914</th>\n",
       "      <td>160</td>\n",
       "      <td>21.0</td>\n",
       "      <td>1936</td>\n",
       "      <td>4</td>\n",
       "      <td>7</td>\n",
       "      <td>1970</td>\n",
       "      <td>1970</td>\n",
       "      <td>0.0</td>\n",
       "      <td>0.0</td>\n",
       "      <td>0.0</td>\n",
       "      <td>...</td>\n",
       "      <td>0.0</td>\n",
       "      <td>0</td>\n",
       "      <td>0</td>\n",
       "      <td>0</td>\n",
       "      <td>0</td>\n",
       "      <td>0</td>\n",
       "      <td>0</td>\n",
       "      <td>0</td>\n",
       "      <td>6</td>\n",
       "      <td>2006</td>\n",
       "    </tr>\n",
       "    <tr>\n",
       "      <th>2915</th>\n",
       "      <td>160</td>\n",
       "      <td>21.0</td>\n",
       "      <td>1894</td>\n",
       "      <td>4</td>\n",
       "      <td>5</td>\n",
       "      <td>1970</td>\n",
       "      <td>1970</td>\n",
       "      <td>0.0</td>\n",
       "      <td>252.0</td>\n",
       "      <td>0.0</td>\n",
       "      <td>...</td>\n",
       "      <td>286.0</td>\n",
       "      <td>0</td>\n",
       "      <td>24</td>\n",
       "      <td>0</td>\n",
       "      <td>0</td>\n",
       "      <td>0</td>\n",
       "      <td>0</td>\n",
       "      <td>0</td>\n",
       "      <td>4</td>\n",
       "      <td>2006</td>\n",
       "    </tr>\n",
       "    <tr>\n",
       "      <th>2916</th>\n",
       "      <td>20</td>\n",
       "      <td>160.0</td>\n",
       "      <td>20000</td>\n",
       "      <td>5</td>\n",
       "      <td>7</td>\n",
       "      <td>1960</td>\n",
       "      <td>1996</td>\n",
       "      <td>0.0</td>\n",
       "      <td>1224.0</td>\n",
       "      <td>0.0</td>\n",
       "      <td>...</td>\n",
       "      <td>576.0</td>\n",
       "      <td>474</td>\n",
       "      <td>0</td>\n",
       "      <td>0</td>\n",
       "      <td>0</td>\n",
       "      <td>0</td>\n",
       "      <td>0</td>\n",
       "      <td>0</td>\n",
       "      <td>9</td>\n",
       "      <td>2006</td>\n",
       "    </tr>\n",
       "    <tr>\n",
       "      <th>2917</th>\n",
       "      <td>85</td>\n",
       "      <td>62.0</td>\n",
       "      <td>10441</td>\n",
       "      <td>5</td>\n",
       "      <td>5</td>\n",
       "      <td>1992</td>\n",
       "      <td>1992</td>\n",
       "      <td>0.0</td>\n",
       "      <td>337.0</td>\n",
       "      <td>0.0</td>\n",
       "      <td>...</td>\n",
       "      <td>0.0</td>\n",
       "      <td>80</td>\n",
       "      <td>32</td>\n",
       "      <td>0</td>\n",
       "      <td>0</td>\n",
       "      <td>0</td>\n",
       "      <td>0</td>\n",
       "      <td>700</td>\n",
       "      <td>7</td>\n",
       "      <td>2006</td>\n",
       "    </tr>\n",
       "    <tr>\n",
       "      <th>2918</th>\n",
       "      <td>60</td>\n",
       "      <td>74.0</td>\n",
       "      <td>9627</td>\n",
       "      <td>7</td>\n",
       "      <td>5</td>\n",
       "      <td>1993</td>\n",
       "      <td>1994</td>\n",
       "      <td>94.0</td>\n",
       "      <td>758.0</td>\n",
       "      <td>0.0</td>\n",
       "      <td>...</td>\n",
       "      <td>650.0</td>\n",
       "      <td>190</td>\n",
       "      <td>48</td>\n",
       "      <td>0</td>\n",
       "      <td>0</td>\n",
       "      <td>0</td>\n",
       "      <td>0</td>\n",
       "      <td>0</td>\n",
       "      <td>11</td>\n",
       "      <td>2006</td>\n",
       "    </tr>\n",
       "  </tbody>\n",
       "</table>\n",
       "<p>2919 rows × 36 columns</p>\n",
       "</div>"
      ],
      "text/plain": [
       "      MSSubClass  LotFrontage  LotArea  OverallQual  OverallCond  YearBuilt  \\\n",
       "0             60         65.0     8450            7            5       2003   \n",
       "1             20         80.0     9600            6            8       1976   \n",
       "2             60         68.0    11250            7            5       2001   \n",
       "3             70         60.0     9550            7            5       1915   \n",
       "4             60         84.0    14260            8            5       2000   \n",
       "...          ...          ...      ...          ...          ...        ...   \n",
       "2914         160         21.0     1936            4            7       1970   \n",
       "2915         160         21.0     1894            4            5       1970   \n",
       "2916          20        160.0    20000            5            7       1960   \n",
       "2917          85         62.0    10441            5            5       1992   \n",
       "2918          60         74.0     9627            7            5       1993   \n",
       "\n",
       "      YearRemodAdd  MasVnrArea  BsmtFinSF1  BsmtFinSF2  ...  GarageArea  \\\n",
       "0             2003       196.0       706.0         0.0  ...       548.0   \n",
       "1             1976         0.0       978.0         0.0  ...       460.0   \n",
       "2             2002       162.0       486.0         0.0  ...       608.0   \n",
       "3             1970         0.0       216.0         0.0  ...       642.0   \n",
       "4             2000       350.0       655.0         0.0  ...       836.0   \n",
       "...            ...         ...         ...         ...  ...         ...   \n",
       "2914          1970         0.0         0.0         0.0  ...         0.0   \n",
       "2915          1970         0.0       252.0         0.0  ...       286.0   \n",
       "2916          1996         0.0      1224.0         0.0  ...       576.0   \n",
       "2917          1992         0.0       337.0         0.0  ...         0.0   \n",
       "2918          1994        94.0       758.0         0.0  ...       650.0   \n",
       "\n",
       "      WoodDeckSF  OpenPorchSF  EnclosedPorch  3SsnPorch  ScreenPorch  \\\n",
       "0              0           61              0          0            0   \n",
       "1            298            0              0          0            0   \n",
       "2              0           42              0          0            0   \n",
       "3              0           35            272          0            0   \n",
       "4            192           84              0          0            0   \n",
       "...          ...          ...            ...        ...          ...   \n",
       "2914           0            0              0          0            0   \n",
       "2915           0           24              0          0            0   \n",
       "2916         474            0              0          0            0   \n",
       "2917          80           32              0          0            0   \n",
       "2918         190           48              0          0            0   \n",
       "\n",
       "      PoolArea  MiscVal  MoSold  YrSold  \n",
       "0            0        0       2    2008  \n",
       "1            0        0       5    2007  \n",
       "2            0        0       9    2008  \n",
       "3            0        0       2    2006  \n",
       "4            0        0      12    2008  \n",
       "...        ...      ...     ...     ...  \n",
       "2914         0        0       6    2006  \n",
       "2915         0        0       4    2006  \n",
       "2916         0        0       9    2006  \n",
       "2917         0      700       7    2006  \n",
       "2918         0        0      11    2006  \n",
       "\n",
       "[2919 rows x 36 columns]"
      ]
     },
     "execution_count": 7,
     "metadata": {},
     "output_type": "execute_result"
    }
   ],
   "source": [
    "#Investigate Numeric Columns\n",
    "data1.select_dtypes(np.number)"
   ]
  },
  {
   "cell_type": "code",
   "execution_count": 8,
   "id": "a4188806",
   "metadata": {
    "execution": {
     "iopub.execute_input": "2022-02-25T21:36:08.544016Z",
     "iopub.status.busy": "2022-02-25T21:36:08.543210Z",
     "iopub.status.idle": "2022-02-25T21:36:08.549304Z",
     "shell.execute_reply": "2022-02-25T21:36:08.549921Z",
     "shell.execute_reply.started": "2022-02-25T21:26:47.559034Z"
    },
    "papermill": {
     "duration": 0.061654,
     "end_time": "2022-02-25T21:36:08.550076",
     "exception": false,
     "start_time": "2022-02-25T21:36:08.488422",
     "status": "completed"
    },
    "tags": []
   },
   "outputs": [
    {
     "data": {
      "text/plain": [
       "0        60\n",
       "1        20\n",
       "2        60\n",
       "3        70\n",
       "4        60\n",
       "       ... \n",
       "2914    160\n",
       "2915    160\n",
       "2916     20\n",
       "2917     85\n",
       "2918     60\n",
       "Name: MSSubClass, Length: 2919, dtype: int64"
      ]
     },
     "execution_count": 8,
     "metadata": {},
     "output_type": "execute_result"
    }
   ],
   "source": [
    "#investigate 'MSSubClass' further\n",
    "data1['MSSubClass']"
   ]
  },
  {
   "cell_type": "code",
   "execution_count": 9,
   "id": "3f40142b",
   "metadata": {
    "execution": {
     "iopub.execute_input": "2022-02-25T21:36:08.658756Z",
     "iopub.status.busy": "2022-02-25T21:36:08.657958Z",
     "iopub.status.idle": "2022-02-25T21:36:08.663235Z",
     "shell.execute_reply": "2022-02-25T21:36:08.663778Z",
     "shell.execute_reply.started": "2022-02-25T21:26:47.568421Z"
    },
    "papermill": {
     "duration": 0.061045,
     "end_time": "2022-02-25T21:36:08.663940",
     "exception": false,
     "start_time": "2022-02-25T21:36:08.602895",
     "status": "completed"
    },
    "tags": []
   },
   "outputs": [],
   "source": [
    "#Need to convert MSSubClass from numerical to string as data desc shows this is categorical\n",
    "data1['MSSubClass'] = data1['MSSubClass'].astype(str)"
   ]
  },
  {
   "cell_type": "markdown",
   "id": "ed652c89",
   "metadata": {
    "papermill": {
     "duration": 0.05295,
     "end_time": "2022-02-25T21:36:08.769557",
     "exception": false,
     "start_time": "2022-02-25T21:36:08.716607",
     "status": "completed"
    },
    "tags": []
   },
   "source": [
    "*Dealing WIth Missing Categorical Values*"
   ]
  },
  {
   "cell_type": "code",
   "execution_count": 10,
   "id": "8deccb5c",
   "metadata": {
    "execution": {
     "iopub.execute_input": "2022-02-25T21:36:08.877334Z",
     "iopub.status.busy": "2022-02-25T21:36:08.876517Z",
     "iopub.status.idle": "2022-02-25T21:36:08.896236Z",
     "shell.execute_reply": "2022-02-25T21:36:08.895822Z",
     "shell.execute_reply.started": "2022-02-25T21:26:47.584476Z"
    },
    "papermill": {
     "duration": 0.074325,
     "end_time": "2022-02-25T21:36:08.896341",
     "exception": false,
     "start_time": "2022-02-25T21:36:08.822016",
     "status": "completed"
    },
    "tags": []
   },
   "outputs": [
    {
     "data": {
      "text/plain": [
       "Index(['MSZoning', 'Alley', 'Utilities', 'Exterior1st', 'Exterior2nd',\n",
       "       'MasVnrType', 'BsmtQual', 'BsmtCond', 'BsmtExposure', 'BsmtFinType1',\n",
       "       'BsmtFinType2', 'Electrical', 'KitchenQual', 'Functional',\n",
       "       'FireplaceQu', 'GarageType', 'GarageFinish', 'GarageQual', 'GarageCond',\n",
       "       'PoolQC', 'Fence', 'MiscFeature', 'SaleType'],\n",
       "      dtype='object')"
      ]
     },
     "execution_count": 10,
     "metadata": {},
     "output_type": "execute_result"
    }
   ],
   "source": [
    "# Investigate each column and determine whether missing values need to be filled with the \n",
    "# mode or some other constant.\n",
    "\n",
    "data1.select_dtypes('object').loc[:, data1.isna().sum() > 0].columns"
   ]
  },
  {
   "cell_type": "code",
   "execution_count": 11,
   "id": "e848e6ea",
   "metadata": {
    "execution": {
     "iopub.execute_input": "2022-02-25T21:36:08.983281Z",
     "iopub.status.busy": "2022-02-25T21:36:08.982586Z",
     "iopub.status.idle": "2022-02-25T21:36:09.003677Z",
     "shell.execute_reply": "2022-02-25T21:36:09.004183Z",
     "shell.execute_reply.started": "2022-02-25T21:26:47.626628Z"
    },
    "papermill": {
     "duration": 0.072967,
     "end_time": "2022-02-25T21:36:09.004375",
     "exception": false,
     "start_time": "2022-02-25T21:36:08.931408",
     "status": "completed"
    },
    "tags": []
   },
   "outputs": [],
   "source": [
    "#Impute using a constant value\n",
    "for column in [\n",
    "    'Alley',\n",
    "    'BsmtQual',\n",
    "    'BsmtCond',\n",
    "    'BsmtExposure',\n",
    "    'BsmtFinType1',\n",
    "    'BsmtFinType2',\n",
    "    'FireplaceQu',\n",
    "    'GarageType',\n",
    "    'GarageFinish',\n",
    "    'GarageQual',\n",
    "    'GarageCond',\n",
    "    'PoolQC',\n",
    "    'Fence',\n",
    "    'MiscFeature',\n",
    "]:\n",
    "    data1[column] = data1[column].fillna('None')\n",
    "\n",
    "    #Impute using the mode\n",
    "for column in [\n",
    "    'MSZoning',\n",
    "    'Utilities',\n",
    "    'Exterior1st',\n",
    "    'Exterior2nd',\n",
    "    'MasVnrType',\n",
    "    'Electrical',\n",
    "    'KitchenQual',\n",
    "    'Functional',\n",
    "    'SaleType'\n",
    "    \n",
    "]:\n",
    "    data1[column] = data1[column].fillna(data1[column].mode()[0])"
   ]
  },
  {
   "cell_type": "code",
   "execution_count": 12,
   "id": "92c16bbf",
   "metadata": {
    "execution": {
     "iopub.execute_input": "2022-02-25T21:36:09.115462Z",
     "iopub.status.busy": "2022-02-25T21:36:09.114652Z",
     "iopub.status.idle": "2022-02-25T21:36:09.126733Z",
     "shell.execute_reply": "2022-02-25T21:36:09.127108Z",
     "shell.execute_reply.started": "2022-02-25T21:26:47.660611Z"
    },
    "papermill": {
     "duration": 0.068859,
     "end_time": "2022-02-25T21:36:09.127234",
     "exception": false,
     "start_time": "2022-02-25T21:36:09.058375",
     "status": "completed"
    },
    "tags": []
   },
   "outputs": [
    {
     "data": {
      "text/plain": [
       "0"
      ]
     },
     "execution_count": 12,
     "metadata": {},
     "output_type": "execute_result"
    }
   ],
   "source": [
    "#check updates on categorical columns\n",
    "data1.select_dtypes('object').isna().sum().sum()"
   ]
  },
  {
   "cell_type": "markdown",
   "id": "92420f86",
   "metadata": {
    "papermill": {
     "duration": 0.034601,
     "end_time": "2022-02-25T21:36:09.198111",
     "exception": false,
     "start_time": "2022-02-25T21:36:09.163510",
     "status": "completed"
    },
    "tags": []
   },
   "source": [
    "*Dealing With Missing Numerical Variables*"
   ]
  },
  {
   "cell_type": "code",
   "execution_count": 13,
   "id": "768030f1",
   "metadata": {
    "execution": {
     "iopub.execute_input": "2022-02-25T21:36:09.276301Z",
     "iopub.status.busy": "2022-02-25T21:36:09.271344Z",
     "iopub.status.idle": "2022-02-25T21:36:09.282564Z",
     "shell.execute_reply": "2022-02-25T21:36:09.282954Z",
     "shell.execute_reply.started": "2022-02-25T21:26:47.689362Z"
    },
    "papermill": {
     "duration": 0.049792,
     "end_time": "2022-02-25T21:36:09.283122",
     "exception": false,
     "start_time": "2022-02-25T21:36:09.233330",
     "status": "completed"
    },
    "tags": []
   },
   "outputs": [
    {
     "data": {
      "text/plain": [
       "LotFrontage      486\n",
       "LotArea            0\n",
       "OverallQual        0\n",
       "OverallCond        0\n",
       "YearBuilt          0\n",
       "YearRemodAdd       0\n",
       "MasVnrArea        23\n",
       "BsmtFinSF1         1\n",
       "BsmtFinSF2         1\n",
       "BsmtUnfSF          1\n",
       "TotalBsmtSF        1\n",
       "1stFlrSF           0\n",
       "2ndFlrSF           0\n",
       "LowQualFinSF       0\n",
       "GrLivArea          0\n",
       "BsmtFullBath       2\n",
       "BsmtHalfBath       2\n",
       "FullBath           0\n",
       "HalfBath           0\n",
       "BedroomAbvGr       0\n",
       "KitchenAbvGr       0\n",
       "TotRmsAbvGrd       0\n",
       "Fireplaces         0\n",
       "GarageYrBlt      159\n",
       "GarageCars         1\n",
       "GarageArea         1\n",
       "WoodDeckSF         0\n",
       "OpenPorchSF        0\n",
       "EnclosedPorch      0\n",
       "3SsnPorch          0\n",
       "ScreenPorch        0\n",
       "PoolArea           0\n",
       "MiscVal            0\n",
       "MoSold             0\n",
       "YrSold             0\n",
       "dtype: int64"
      ]
     },
     "execution_count": 13,
     "metadata": {},
     "output_type": "execute_result"
    }
   ],
   "source": [
    "# run missing values check on numerical columns\n",
    "data1.select_dtypes(np.number).isna().sum()"
   ]
  },
  {
   "cell_type": "code",
   "execution_count": 14,
   "id": "84c7e616",
   "metadata": {
    "execution": {
     "iopub.execute_input": "2022-02-25T21:36:09.376978Z",
     "iopub.status.busy": "2022-02-25T21:36:09.376327Z",
     "iopub.status.idle": "2022-02-25T21:36:09.381587Z",
     "shell.execute_reply": "2022-02-25T21:36:09.382203Z",
     "shell.execute_reply.started": "2022-02-25T21:26:47.700705Z"
    },
    "papermill": {
     "duration": 0.06318,
     "end_time": "2022-02-25T21:36:09.382383",
     "exception": false,
     "start_time": "2022-02-25T21:36:09.319203",
     "status": "completed"
    },
    "tags": []
   },
   "outputs": [],
   "source": [
    "# creating a knn regressor to fill missing numerical values\n",
    "def knn_impute(df, na_target):\n",
    "    df = df.copy()\n",
    "\n",
    "    numeric_df = df.select_dtypes(np.number)\n",
    "    non_na_columns = numeric_df.loc[: ,numeric_df.isna().sum() == 0].columns\n",
    "\n",
    "    y_train = numeric_df.loc[numeric_df[na_target].isna() == False, na_target]\n",
    "    x_train = numeric_df.loc[numeric_df[na_target].isna() == False, non_na_columns]\n",
    "    x_test = numeric_df.loc[numeric_df[na_target].isna() == True, non_na_columns]\n",
    "\n",
    "    knn = KNeighborsRegressor()\n",
    "    knn.fit(x_train, y_train)\n",
    "\n",
    "    y_pred = knn.predict(x_test)\n",
    "\n",
    "    df.loc[df[na_target].isna() == True, na_target] = y_pred\n",
    "\n",
    "    return df"
   ]
  },
  {
   "cell_type": "code",
   "execution_count": 15,
   "id": "daa2ea76",
   "metadata": {
    "execution": {
     "iopub.execute_input": "2022-02-25T21:36:09.496035Z",
     "iopub.status.busy": "2022-02-25T21:36:09.495405Z",
     "iopub.status.idle": "2022-02-25T21:36:09.508075Z",
     "shell.execute_reply": "2022-02-25T21:36:09.507513Z",
     "shell.execute_reply.started": "2022-02-25T21:26:47.711013Z"
    },
    "papermill": {
     "duration": 0.070044,
     "end_time": "2022-02-25T21:36:09.508207",
     "exception": false,
     "start_time": "2022-02-25T21:36:09.438163",
     "status": "completed"
    },
    "tags": []
   },
   "outputs": [
    {
     "data": {
      "text/plain": [
       "Index(['LotFrontage', 'MasVnrArea', 'BsmtFinSF1', 'BsmtFinSF2', 'BsmtUnfSF',\n",
       "       'TotalBsmtSF', 'BsmtFullBath', 'BsmtHalfBath', 'GarageYrBlt',\n",
       "       'GarageCars', 'GarageArea'],\n",
       "      dtype='object')"
      ]
     },
     "execution_count": 15,
     "metadata": {},
     "output_type": "execute_result"
    }
   ],
   "source": [
    "#check all columns that still have multiple missing values\n",
    "data1.columns[data1.isna().sum() > 0]"
   ]
  },
  {
   "cell_type": "code",
   "execution_count": 16,
   "id": "9dd28bbc",
   "metadata": {
    "execution": {
     "iopub.execute_input": "2022-02-25T21:36:09.624587Z",
     "iopub.status.busy": "2022-02-25T21:36:09.623942Z",
     "iopub.status.idle": "2022-02-25T21:36:10.009285Z",
     "shell.execute_reply": "2022-02-25T21:36:10.009927Z",
     "shell.execute_reply.started": "2022-02-25T21:26:47.745891Z"
    },
    "papermill": {
     "duration": 0.44666,
     "end_time": "2022-02-25T21:36:10.010126",
     "exception": false,
     "start_time": "2022-02-25T21:36:09.563466",
     "status": "completed"
    },
    "tags": []
   },
   "outputs": [],
   "source": [
    "# apply the KNNRegressor to this list\n",
    "for column in [\n",
    "    'LotFrontage',\n",
    "    'MasVnrArea',\n",
    "    'BsmtFinSF1',\n",
    "    'BsmtFinSF2',\n",
    "    'BsmtUnfSF',\n",
    "    'TotalBsmtSF',\n",
    "    'BsmtFullBath',\n",
    "    'BsmtHalfBath',\n",
    "    'GarageYrBlt',\n",
    "    'GarageCars',\n",
    "    'GarageArea',\n",
    "]:\n",
    "    data1 = knn_impute(data1, column)\n"
   ]
  },
  {
   "cell_type": "code",
   "execution_count": 17,
   "id": "6986c7c0",
   "metadata": {
    "execution": {
     "iopub.execute_input": "2022-02-25T21:36:10.116248Z",
     "iopub.status.busy": "2022-02-25T21:36:10.115737Z",
     "iopub.status.idle": "2022-02-25T21:36:10.126048Z",
     "shell.execute_reply": "2022-02-25T21:36:10.126516Z",
     "shell.execute_reply.started": "2022-02-25T21:26:47.962365Z"
    },
    "papermill": {
     "duration": 0.059374,
     "end_time": "2022-02-25T21:36:10.126646",
     "exception": false,
     "start_time": "2022-02-25T21:36:10.067272",
     "status": "completed"
    },
    "tags": []
   },
   "outputs": [
    {
     "data": {
      "text/plain": [
       "0"
      ]
     },
     "execution_count": 17,
     "metadata": {},
     "output_type": "execute_result"
    }
   ],
   "source": [
    "#run the missing values list again\n",
    "data1.isna().sum().sum()\n"
   ]
  },
  {
   "cell_type": "markdown",
   "id": "30eec19c",
   "metadata": {
    "papermill": {
     "duration": 0.036832,
     "end_time": "2022-02-25T21:36:10.200308",
     "exception": false,
     "start_time": "2022-02-25T21:36:10.163476",
     "status": "completed"
    },
    "tags": []
   },
   "source": [
    "**Feature Transformation**"
   ]
  },
  {
   "cell_type": "markdown",
   "id": "d4351801",
   "metadata": {
    "papermill": {
     "duration": 0.03569,
     "end_time": "2022-02-25T21:36:10.272793",
     "exception": false,
     "start_time": "2022-02-25T21:36:10.237103",
     "status": "completed"
    },
    "tags": []
   },
   "source": [
    "*Exploring Distribution*"
   ]
  },
  {
   "cell_type": "code",
   "execution_count": 18,
   "id": "d2589481",
   "metadata": {
    "execution": {
     "iopub.execute_input": "2022-02-25T21:36:10.348297Z",
     "iopub.status.busy": "2022-02-25T21:36:10.347773Z",
     "iopub.status.idle": "2022-02-25T21:36:10.367080Z",
     "shell.execute_reply": "2022-02-25T21:36:10.367509Z",
     "shell.execute_reply.started": "2022-02-25T21:26:47.978149Z"
    },
    "papermill": {
     "duration": 0.058177,
     "end_time": "2022-02-25T21:36:10.367636",
     "exception": false,
     "start_time": "2022-02-25T21:36:10.309459",
     "status": "completed"
    },
    "tags": []
   },
   "outputs": [
    {
     "data": {
      "text/plain": [
       "0       LotFrontage\n",
       "1           LotArea\n",
       "3       OverallCond\n",
       "4         YearBuilt\n",
       "6        MasVnrArea\n",
       "7        BsmtFinSF1\n",
       "8        BsmtFinSF2\n",
       "9         BsmtUnfSF\n",
       "10      TotalBsmtSF\n",
       "11         1stFlrSF\n",
       "12         2ndFlrSF\n",
       "13     LowQualFinSF\n",
       "14        GrLivArea\n",
       "15     BsmtFullBath\n",
       "16     BsmtHalfBath\n",
       "18         HalfBath\n",
       "20     KitchenAbvGr\n",
       "21     TotRmsAbvGrd\n",
       "22       Fireplaces\n",
       "26       WoodDeckSF\n",
       "27      OpenPorchSF\n",
       "28    EnclosedPorch\n",
       "29        3SsnPorch\n",
       "30      ScreenPorch\n",
       "31         PoolArea\n",
       "32          MiscVal\n",
       "Name: Variable, dtype: object"
      ]
     },
     "execution_count": 18,
     "metadata": {},
     "output_type": "execute_result"
    }
   ],
   "source": [
    "# create a data frame which lists all numberical variables titled Variable\n",
    "skew_df = pd.DataFrame(data1.select_dtypes(np.number).columns, columns=['Variable'])\n",
    "# get the skew value for each variable \n",
    "skew_df['skew'] = skew_df['Variable'].apply(lambda variable: scipy.stats.skew(data1[variable]))\n",
    "# convert to positive/absolute value \n",
    "skew_df['Absolute Skew'] = skew_df['skew'].apply(abs)\n",
    "# create true/false column to see whether shew value is above 0.5\n",
    "skew_df['Skewed'] = skew_df['Absolute Skew'].apply(lambda x: True if x >= 0.5 else False)\n",
    "# select all columns that are skewed\n",
    "skew_df.query(\"Skewed == True\")[\"Variable\"]"
   ]
  },
  {
   "cell_type": "markdown",
   "id": "5d52c296",
   "metadata": {
    "papermill": {
     "duration": 0.036408,
     "end_time": "2022-02-25T21:36:10.440273",
     "exception": false,
     "start_time": "2022-02-25T21:36:10.403865",
     "status": "completed"
    },
    "tags": []
   },
   "source": [
    "*Apply Log Transformation to Normalise Distribution*"
   ]
  },
  {
   "cell_type": "code",
   "execution_count": 19,
   "id": "fd3f376b",
   "metadata": {
    "execution": {
     "iopub.execute_input": "2022-02-25T21:36:10.519505Z",
     "iopub.status.busy": "2022-02-25T21:36:10.519030Z",
     "iopub.status.idle": "2022-02-25T21:36:10.586508Z",
     "shell.execute_reply": "2022-02-25T21:36:10.586930Z",
     "shell.execute_reply.started": "2022-02-25T21:26:48.010034Z"
    },
    "papermill": {
     "duration": 0.110029,
     "end_time": "2022-02-25T21:36:10.587087",
     "exception": false,
     "start_time": "2022-02-25T21:36:10.477058",
     "status": "completed"
    },
    "tags": []
   },
   "outputs": [
    {
     "data": {
      "text/html": [
       "<div>\n",
       "<style scoped>\n",
       "    .dataframe tbody tr th:only-of-type {\n",
       "        vertical-align: middle;\n",
       "    }\n",
       "\n",
       "    .dataframe tbody tr th {\n",
       "        vertical-align: top;\n",
       "    }\n",
       "\n",
       "    .dataframe thead th {\n",
       "        text-align: right;\n",
       "    }\n",
       "</style>\n",
       "<table border=\"1\" class=\"dataframe\">\n",
       "  <thead>\n",
       "    <tr style=\"text-align: right;\">\n",
       "      <th></th>\n",
       "      <th>LotFrontage</th>\n",
       "      <th>LotArea</th>\n",
       "      <th>OverallCond</th>\n",
       "      <th>YearBuilt</th>\n",
       "      <th>MasVnrArea</th>\n",
       "      <th>BsmtFinSF1</th>\n",
       "      <th>BsmtFinSF2</th>\n",
       "      <th>BsmtUnfSF</th>\n",
       "      <th>TotalBsmtSF</th>\n",
       "      <th>1stFlrSF</th>\n",
       "      <th>...</th>\n",
       "      <th>KitchenAbvGr</th>\n",
       "      <th>TotRmsAbvGrd</th>\n",
       "      <th>Fireplaces</th>\n",
       "      <th>WoodDeckSF</th>\n",
       "      <th>OpenPorchSF</th>\n",
       "      <th>EnclosedPorch</th>\n",
       "      <th>3SsnPorch</th>\n",
       "      <th>ScreenPorch</th>\n",
       "      <th>PoolArea</th>\n",
       "      <th>MiscVal</th>\n",
       "    </tr>\n",
       "  </thead>\n",
       "  <tbody>\n",
       "    <tr>\n",
       "      <th>count</th>\n",
       "      <td>2919.000000</td>\n",
       "      <td>2919.000000</td>\n",
       "      <td>2919.000000</td>\n",
       "      <td>2919.000000</td>\n",
       "      <td>2919.000000</td>\n",
       "      <td>2919.000000</td>\n",
       "      <td>2919.000000</td>\n",
       "      <td>2919.000000</td>\n",
       "      <td>2919.000000</td>\n",
       "      <td>2919.000000</td>\n",
       "      <td>...</td>\n",
       "      <td>2919.000000</td>\n",
       "      <td>2919.000000</td>\n",
       "      <td>2919.000000</td>\n",
       "      <td>2919.000000</td>\n",
       "      <td>2919.000000</td>\n",
       "      <td>2919.000000</td>\n",
       "      <td>2919.000000</td>\n",
       "      <td>2919.000000</td>\n",
       "      <td>2919.000000</td>\n",
       "      <td>2919.000000</td>\n",
       "    </tr>\n",
       "    <tr>\n",
       "      <th>mean</th>\n",
       "      <td>70.154916</td>\n",
       "      <td>10168.114080</td>\n",
       "      <td>5.564577</td>\n",
       "      <td>1971.312778</td>\n",
       "      <td>102.189654</td>\n",
       "      <td>441.332580</td>\n",
       "      <td>49.576841</td>\n",
       "      <td>560.797670</td>\n",
       "      <td>1051.679822</td>\n",
       "      <td>1159.581706</td>\n",
       "      <td>...</td>\n",
       "      <td>1.044536</td>\n",
       "      <td>6.451524</td>\n",
       "      <td>0.597122</td>\n",
       "      <td>93.709832</td>\n",
       "      <td>47.486811</td>\n",
       "      <td>23.098321</td>\n",
       "      <td>2.602261</td>\n",
       "      <td>16.062350</td>\n",
       "      <td>2.251799</td>\n",
       "      <td>50.825968</td>\n",
       "    </tr>\n",
       "    <tr>\n",
       "      <th>std</th>\n",
       "      <td>22.697641</td>\n",
       "      <td>7886.996359</td>\n",
       "      <td>1.113131</td>\n",
       "      <td>30.291442</td>\n",
       "      <td>178.934095</td>\n",
       "      <td>455.559081</td>\n",
       "      <td>169.176867</td>\n",
       "      <td>439.470508</td>\n",
       "      <td>440.722380</td>\n",
       "      <td>392.362079</td>\n",
       "      <td>...</td>\n",
       "      <td>0.214462</td>\n",
       "      <td>1.569379</td>\n",
       "      <td>0.646129</td>\n",
       "      <td>126.526589</td>\n",
       "      <td>67.575493</td>\n",
       "      <td>64.244246</td>\n",
       "      <td>25.188169</td>\n",
       "      <td>56.184365</td>\n",
       "      <td>35.663946</td>\n",
       "      <td>567.402211</td>\n",
       "    </tr>\n",
       "    <tr>\n",
       "      <th>min</th>\n",
       "      <td>21.000000</td>\n",
       "      <td>1300.000000</td>\n",
       "      <td>1.000000</td>\n",
       "      <td>1872.000000</td>\n",
       "      <td>0.000000</td>\n",
       "      <td>0.000000</td>\n",
       "      <td>0.000000</td>\n",
       "      <td>0.000000</td>\n",
       "      <td>0.000000</td>\n",
       "      <td>334.000000</td>\n",
       "      <td>...</td>\n",
       "      <td>0.000000</td>\n",
       "      <td>2.000000</td>\n",
       "      <td>0.000000</td>\n",
       "      <td>0.000000</td>\n",
       "      <td>0.000000</td>\n",
       "      <td>0.000000</td>\n",
       "      <td>0.000000</td>\n",
       "      <td>0.000000</td>\n",
       "      <td>0.000000</td>\n",
       "      <td>0.000000</td>\n",
       "    </tr>\n",
       "    <tr>\n",
       "      <th>25%</th>\n",
       "      <td>60.000000</td>\n",
       "      <td>7478.000000</td>\n",
       "      <td>5.000000</td>\n",
       "      <td>1953.500000</td>\n",
       "      <td>0.000000</td>\n",
       "      <td>0.000000</td>\n",
       "      <td>0.000000</td>\n",
       "      <td>220.000000</td>\n",
       "      <td>793.000000</td>\n",
       "      <td>876.000000</td>\n",
       "      <td>...</td>\n",
       "      <td>1.000000</td>\n",
       "      <td>5.000000</td>\n",
       "      <td>0.000000</td>\n",
       "      <td>0.000000</td>\n",
       "      <td>0.000000</td>\n",
       "      <td>0.000000</td>\n",
       "      <td>0.000000</td>\n",
       "      <td>0.000000</td>\n",
       "      <td>0.000000</td>\n",
       "      <td>0.000000</td>\n",
       "    </tr>\n",
       "    <tr>\n",
       "      <th>50%</th>\n",
       "      <td>70.000000</td>\n",
       "      <td>9453.000000</td>\n",
       "      <td>5.000000</td>\n",
       "      <td>1973.000000</td>\n",
       "      <td>0.000000</td>\n",
       "      <td>368.000000</td>\n",
       "      <td>0.000000</td>\n",
       "      <td>467.000000</td>\n",
       "      <td>989.000000</td>\n",
       "      <td>1082.000000</td>\n",
       "      <td>...</td>\n",
       "      <td>1.000000</td>\n",
       "      <td>6.000000</td>\n",
       "      <td>1.000000</td>\n",
       "      <td>0.000000</td>\n",
       "      <td>26.000000</td>\n",
       "      <td>0.000000</td>\n",
       "      <td>0.000000</td>\n",
       "      <td>0.000000</td>\n",
       "      <td>0.000000</td>\n",
       "      <td>0.000000</td>\n",
       "    </tr>\n",
       "    <tr>\n",
       "      <th>75%</th>\n",
       "      <td>80.100000</td>\n",
       "      <td>11570.000000</td>\n",
       "      <td>6.000000</td>\n",
       "      <td>2001.000000</td>\n",
       "      <td>164.000000</td>\n",
       "      <td>733.000000</td>\n",
       "      <td>0.000000</td>\n",
       "      <td>805.000000</td>\n",
       "      <td>1302.000000</td>\n",
       "      <td>1387.500000</td>\n",
       "      <td>...</td>\n",
       "      <td>1.000000</td>\n",
       "      <td>7.000000</td>\n",
       "      <td>1.000000</td>\n",
       "      <td>168.000000</td>\n",
       "      <td>70.000000</td>\n",
       "      <td>0.000000</td>\n",
       "      <td>0.000000</td>\n",
       "      <td>0.000000</td>\n",
       "      <td>0.000000</td>\n",
       "      <td>0.000000</td>\n",
       "    </tr>\n",
       "    <tr>\n",
       "      <th>max</th>\n",
       "      <td>313.000000</td>\n",
       "      <td>215245.000000</td>\n",
       "      <td>9.000000</td>\n",
       "      <td>2010.000000</td>\n",
       "      <td>1600.000000</td>\n",
       "      <td>5644.000000</td>\n",
       "      <td>1526.000000</td>\n",
       "      <td>2336.000000</td>\n",
       "      <td>6110.000000</td>\n",
       "      <td>5095.000000</td>\n",
       "      <td>...</td>\n",
       "      <td>3.000000</td>\n",
       "      <td>15.000000</td>\n",
       "      <td>4.000000</td>\n",
       "      <td>1424.000000</td>\n",
       "      <td>742.000000</td>\n",
       "      <td>1012.000000</td>\n",
       "      <td>508.000000</td>\n",
       "      <td>576.000000</td>\n",
       "      <td>800.000000</td>\n",
       "      <td>17000.000000</td>\n",
       "    </tr>\n",
       "  </tbody>\n",
       "</table>\n",
       "<p>8 rows × 26 columns</p>\n",
       "</div>"
      ],
      "text/plain": [
       "       LotFrontage        LotArea  OverallCond    YearBuilt   MasVnrArea  \\\n",
       "count  2919.000000    2919.000000  2919.000000  2919.000000  2919.000000   \n",
       "mean     70.154916   10168.114080     5.564577  1971.312778   102.189654   \n",
       "std      22.697641    7886.996359     1.113131    30.291442   178.934095   \n",
       "min      21.000000    1300.000000     1.000000  1872.000000     0.000000   \n",
       "25%      60.000000    7478.000000     5.000000  1953.500000     0.000000   \n",
       "50%      70.000000    9453.000000     5.000000  1973.000000     0.000000   \n",
       "75%      80.100000   11570.000000     6.000000  2001.000000   164.000000   \n",
       "max     313.000000  215245.000000     9.000000  2010.000000  1600.000000   \n",
       "\n",
       "        BsmtFinSF1   BsmtFinSF2    BsmtUnfSF  TotalBsmtSF     1stFlrSF  ...  \\\n",
       "count  2919.000000  2919.000000  2919.000000  2919.000000  2919.000000  ...   \n",
       "mean    441.332580    49.576841   560.797670  1051.679822  1159.581706  ...   \n",
       "std     455.559081   169.176867   439.470508   440.722380   392.362079  ...   \n",
       "min       0.000000     0.000000     0.000000     0.000000   334.000000  ...   \n",
       "25%       0.000000     0.000000   220.000000   793.000000   876.000000  ...   \n",
       "50%     368.000000     0.000000   467.000000   989.000000  1082.000000  ...   \n",
       "75%     733.000000     0.000000   805.000000  1302.000000  1387.500000  ...   \n",
       "max    5644.000000  1526.000000  2336.000000  6110.000000  5095.000000  ...   \n",
       "\n",
       "       KitchenAbvGr  TotRmsAbvGrd   Fireplaces   WoodDeckSF  OpenPorchSF  \\\n",
       "count   2919.000000   2919.000000  2919.000000  2919.000000  2919.000000   \n",
       "mean       1.044536      6.451524     0.597122    93.709832    47.486811   \n",
       "std        0.214462      1.569379     0.646129   126.526589    67.575493   \n",
       "min        0.000000      2.000000     0.000000     0.000000     0.000000   \n",
       "25%        1.000000      5.000000     0.000000     0.000000     0.000000   \n",
       "50%        1.000000      6.000000     1.000000     0.000000    26.000000   \n",
       "75%        1.000000      7.000000     1.000000   168.000000    70.000000   \n",
       "max        3.000000     15.000000     4.000000  1424.000000   742.000000   \n",
       "\n",
       "       EnclosedPorch    3SsnPorch  ScreenPorch     PoolArea       MiscVal  \n",
       "count    2919.000000  2919.000000  2919.000000  2919.000000   2919.000000  \n",
       "mean       23.098321     2.602261    16.062350     2.251799     50.825968  \n",
       "std        64.244246    25.188169    56.184365    35.663946    567.402211  \n",
       "min         0.000000     0.000000     0.000000     0.000000      0.000000  \n",
       "25%         0.000000     0.000000     0.000000     0.000000      0.000000  \n",
       "50%         0.000000     0.000000     0.000000     0.000000      0.000000  \n",
       "75%         0.000000     0.000000     0.000000     0.000000      0.000000  \n",
       "max      1012.000000   508.000000   576.000000   800.000000  17000.000000  \n",
       "\n",
       "[8 rows x 26 columns]"
      ]
     },
     "execution_count": 19,
     "metadata": {},
     "output_type": "execute_result"
    }
   ],
   "source": [
    "#Evaluate values of remaining skewed columns\n",
    "data1[skew_df.query(\"Skewed == True\")['Variable'].values].describe()"
   ]
  },
  {
   "cell_type": "code",
   "execution_count": 20,
   "id": "2c915531",
   "metadata": {
    "execution": {
     "iopub.execute_input": "2022-02-25T21:36:10.671294Z",
     "iopub.status.busy": "2022-02-25T21:36:10.666017Z",
     "iopub.status.idle": "2022-02-25T21:36:10.686065Z",
     "shell.execute_reply": "2022-02-25T21:36:10.685624Z",
     "shell.execute_reply.started": "2022-02-25T21:26:48.087085Z"
    },
    "papermill": {
     "duration": 0.06115,
     "end_time": "2022-02-25T21:36:10.686180",
     "exception": false,
     "start_time": "2022-02-25T21:36:10.625030",
     "status": "completed"
    },
    "tags": []
   },
   "outputs": [],
   "source": [
    "for column in skew_df.query(\"Skewed == True\")['Variable'].values:\n",
    "    data1[column] = np.log1p(data1[column])"
   ]
  },
  {
   "cell_type": "code",
   "execution_count": 21,
   "id": "b3b7b403",
   "metadata": {
    "execution": {
     "iopub.execute_input": "2022-02-25T21:36:10.765521Z",
     "iopub.status.busy": "2022-02-25T21:36:10.765017Z",
     "iopub.status.idle": "2022-02-25T21:36:10.773509Z",
     "shell.execute_reply": "2022-02-25T21:36:10.773009Z",
     "shell.execute_reply.started": "2022-02-25T21:26:48.110003Z"
    },
    "papermill": {
     "duration": 0.050113,
     "end_time": "2022-02-25T21:36:10.773616",
     "exception": false,
     "start_time": "2022-02-25T21:36:10.723503",
     "status": "completed"
    },
    "tags": []
   },
   "outputs": [
    {
     "data": {
      "text/plain": [
       "0      -0.499998\n",
       "1       0.866028\n",
       "2      -0.000011\n",
       "3      -0.499998\n",
       "4      -1.000000\n",
       "          ...   \n",
       "2914    1.000000\n",
       "2915    0.500004\n",
       "2916   -0.000011\n",
       "2917    0.866021\n",
       "2918   -0.866032\n",
       "Name: MoSold, Length: 2919, dtype: float64"
      ]
     },
     "execution_count": 21,
     "metadata": {},
     "output_type": "execute_result"
    }
   ],
   "source": [
    "# apply Cosine Feature transformation to reflect cyclical nature of months\n",
    "-np.cos(0.5236 * data1['MoSold'])"
   ]
  },
  {
   "cell_type": "code",
   "execution_count": 22,
   "id": "9f290df9",
   "metadata": {
    "execution": {
     "iopub.execute_input": "2022-02-25T21:36:10.854741Z",
     "iopub.status.busy": "2022-02-25T21:36:10.854221Z",
     "iopub.status.idle": "2022-02-25T21:36:10.856397Z",
     "shell.execute_reply": "2022-02-25T21:36:10.856912Z",
     "shell.execute_reply.started": "2022-02-25T21:26:48.124381Z"
    },
    "papermill": {
     "duration": 0.046107,
     "end_time": "2022-02-25T21:36:10.857091",
     "exception": false,
     "start_time": "2022-02-25T21:36:10.810984",
     "status": "completed"
    },
    "tags": []
   },
   "outputs": [],
   "source": [
    "#set this equal to the new feature\n",
    "data1['MoSold'] = -np.cos(0.5236 * data1['MoSold'])\n"
   ]
  },
  {
   "cell_type": "markdown",
   "id": "26baee89",
   "metadata": {
    "papermill": {
     "duration": 0.056217,
     "end_time": "2022-02-25T21:36:10.970414",
     "exception": false,
     "start_time": "2022-02-25T21:36:10.914197",
     "status": "completed"
    },
    "tags": []
   },
   "source": [
    "**Encoding**"
   ]
  },
  {
   "cell_type": "code",
   "execution_count": 23,
   "id": "7b16013e",
   "metadata": {
    "execution": {
     "iopub.execute_input": "2022-02-25T21:36:11.091029Z",
     "iopub.status.busy": "2022-02-25T21:36:11.090159Z",
     "iopub.status.idle": "2022-02-25T21:36:11.130939Z",
     "shell.execute_reply": "2022-02-25T21:36:11.130218Z",
     "shell.execute_reply.started": "2022-02-25T21:26:48.139941Z"
    },
    "papermill": {
     "duration": 0.103333,
     "end_time": "2022-02-25T21:36:11.131073",
     "exception": false,
     "start_time": "2022-02-25T21:36:11.027740",
     "status": "completed"
    },
    "tags": []
   },
   "outputs": [],
   "source": [
    "#Apply one-hot encoding to all categorical variables\n",
    "data1 = pd.get_dummies(data1)"
   ]
  },
  {
   "cell_type": "markdown",
   "id": "5b322127",
   "metadata": {
    "papermill": {
     "duration": 0.056842,
     "end_time": "2022-02-25T21:36:11.245195",
     "exception": false,
     "start_time": "2022-02-25T21:36:11.188353",
     "status": "completed"
    },
    "tags": []
   },
   "source": [
    "**Scaling**"
   ]
  },
  {
   "cell_type": "code",
   "execution_count": 24,
   "id": "51cbe72c",
   "metadata": {
    "execution": {
     "iopub.execute_input": "2022-02-25T21:36:11.362232Z",
     "iopub.status.busy": "2022-02-25T21:36:11.361507Z",
     "iopub.status.idle": "2022-02-25T21:36:11.394405Z",
     "shell.execute_reply": "2022-02-25T21:36:11.394970Z",
     "shell.execute_reply.started": "2022-02-25T21:26:48.212410Z"
    },
    "papermill": {
     "duration": 0.093239,
     "end_time": "2022-02-25T21:36:11.395137",
     "exception": false,
     "start_time": "2022-02-25T21:36:11.301898",
     "status": "completed"
    },
    "tags": []
   },
   "outputs": [],
   "source": [
    "# Make a copy of current dataset\n",
    "data2 = data1.copy()\n",
    "#Apply standard scale transformation, centering all variables at 0 with a variance of 1\n",
    "scaler = StandardScaler()\n",
    "scaler.fit(data2)\n",
    "data2 = pd.DataFrame(scaler.transform(data2), index=data2.index, columns=data2.columns)"
   ]
  },
  {
   "cell_type": "code",
   "execution_count": 25,
   "id": "0d38f364",
   "metadata": {
    "execution": {
     "iopub.execute_input": "2022-02-25T21:36:11.514185Z",
     "iopub.status.busy": "2022-02-25T21:36:11.513516Z",
     "iopub.status.idle": "2022-02-25T21:36:11.535478Z",
     "shell.execute_reply": "2022-02-25T21:36:11.536120Z",
     "shell.execute_reply.started": "2022-02-25T21:26:48.252577Z"
    },
    "papermill": {
     "duration": 0.083199,
     "end_time": "2022-02-25T21:36:11.536293",
     "exception": false,
     "start_time": "2022-02-25T21:36:11.453094",
     "status": "completed"
    },
    "tags": []
   },
   "outputs": [
    {
     "data": {
      "text/html": [
       "<div>\n",
       "<style scoped>\n",
       "    .dataframe tbody tr th:only-of-type {\n",
       "        vertical-align: middle;\n",
       "    }\n",
       "\n",
       "    .dataframe tbody tr th {\n",
       "        vertical-align: top;\n",
       "    }\n",
       "\n",
       "    .dataframe thead th {\n",
       "        text-align: right;\n",
       "    }\n",
       "</style>\n",
       "<table border=\"1\" class=\"dataframe\">\n",
       "  <thead>\n",
       "    <tr style=\"text-align: right;\">\n",
       "      <th></th>\n",
       "      <th>LotFrontage</th>\n",
       "      <th>LotArea</th>\n",
       "      <th>OverallQual</th>\n",
       "      <th>OverallCond</th>\n",
       "      <th>YearBuilt</th>\n",
       "      <th>YearRemodAdd</th>\n",
       "      <th>MasVnrArea</th>\n",
       "      <th>BsmtFinSF1</th>\n",
       "      <th>BsmtFinSF2</th>\n",
       "      <th>BsmtUnfSF</th>\n",
       "      <th>...</th>\n",
       "      <th>SaleType_ConLw</th>\n",
       "      <th>SaleType_New</th>\n",
       "      <th>SaleType_Oth</th>\n",
       "      <th>SaleType_WD</th>\n",
       "      <th>SaleCondition_Abnorml</th>\n",
       "      <th>SaleCondition_AdjLand</th>\n",
       "      <th>SaleCondition_Alloca</th>\n",
       "      <th>SaleCondition_Family</th>\n",
       "      <th>SaleCondition_Normal</th>\n",
       "      <th>SaleCondition_Partial</th>\n",
       "    </tr>\n",
       "  </thead>\n",
       "  <tbody>\n",
       "    <tr>\n",
       "      <th>0</th>\n",
       "      <td>-0.064176</td>\n",
       "      <td>-0.103719</td>\n",
       "      <td>0.646183</td>\n",
       "      <td>-0.435439</td>\n",
       "      <td>1.040634</td>\n",
       "      <td>0.896833</td>\n",
       "      <td>1.210174</td>\n",
       "      <td>0.783229</td>\n",
       "      <td>-0.363076</td>\n",
       "      <td>-0.326949</td>\n",
       "      <td>...</td>\n",
       "      <td>-0.052423</td>\n",
       "      <td>-0.298629</td>\n",
       "      <td>-0.049029</td>\n",
       "      <td>0.394439</td>\n",
       "      <td>-0.263861</td>\n",
       "      <td>-0.064249</td>\n",
       "      <td>-0.09105</td>\n",
       "      <td>-0.126535</td>\n",
       "      <td>0.463937</td>\n",
       "      <td>-0.302693</td>\n",
       "    </tr>\n",
       "    <tr>\n",
       "      <th>1</th>\n",
       "      <td>0.536077</td>\n",
       "      <td>0.146544</td>\n",
       "      <td>-0.063185</td>\n",
       "      <td>1.906370</td>\n",
       "      <td>0.161526</td>\n",
       "      <td>-0.395604</td>\n",
       "      <td>-0.804554</td>\n",
       "      <td>0.892444</td>\n",
       "      <td>-0.363076</td>\n",
       "      <td>0.013428</td>\n",
       "      <td>...</td>\n",
       "      <td>-0.052423</td>\n",
       "      <td>-0.298629</td>\n",
       "      <td>-0.049029</td>\n",
       "      <td>0.394439</td>\n",
       "      <td>-0.263861</td>\n",
       "      <td>-0.064249</td>\n",
       "      <td>-0.09105</td>\n",
       "      <td>-0.126535</td>\n",
       "      <td>0.463937</td>\n",
       "      <td>-0.302693</td>\n",
       "    </tr>\n",
       "    <tr>\n",
       "      <th>2</th>\n",
       "      <td>0.066112</td>\n",
       "      <td>0.457629</td>\n",
       "      <td>0.646183</td>\n",
       "      <td>-0.435439</td>\n",
       "      <td>0.975922</td>\n",
       "      <td>0.848965</td>\n",
       "      <td>1.137926</td>\n",
       "      <td>0.658154</td>\n",
       "      <td>-0.363076</td>\n",
       "      <td>0.240016</td>\n",
       "      <td>...</td>\n",
       "      <td>-0.052423</td>\n",
       "      <td>-0.298629</td>\n",
       "      <td>-0.049029</td>\n",
       "      <td>0.394439</td>\n",
       "      <td>-0.263861</td>\n",
       "      <td>-0.064249</td>\n",
       "      <td>-0.09105</td>\n",
       "      <td>-0.126535</td>\n",
       "      <td>0.463937</td>\n",
       "      <td>-0.302693</td>\n",
       "    </tr>\n",
       "    <tr>\n",
       "      <th>3</th>\n",
       "      <td>-0.295084</td>\n",
       "      <td>0.136301</td>\n",
       "      <td>0.646183</td>\n",
       "      <td>-0.435439</td>\n",
       "      <td>-1.869638</td>\n",
       "      <td>-0.682812</td>\n",
       "      <td>-0.804554</td>\n",
       "      <td>0.386923</td>\n",
       "      <td>-0.363076</td>\n",
       "      <td>0.356870</td>\n",
       "      <td>...</td>\n",
       "      <td>-0.052423</td>\n",
       "      <td>-0.298629</td>\n",
       "      <td>-0.049029</td>\n",
       "      <td>0.394439</td>\n",
       "      <td>3.789876</td>\n",
       "      <td>-0.064249</td>\n",
       "      <td>-0.09105</td>\n",
       "      <td>-0.126535</td>\n",
       "      <td>-2.155466</td>\n",
       "      <td>-0.302693</td>\n",
       "    </tr>\n",
       "    <tr>\n",
       "      <th>4</th>\n",
       "      <td>0.677357</td>\n",
       "      <td>0.922662</td>\n",
       "      <td>1.355551</td>\n",
       "      <td>-0.435439</td>\n",
       "      <td>0.943542</td>\n",
       "      <td>0.753229</td>\n",
       "      <td>1.430432</td>\n",
       "      <td>0.758108</td>\n",
       "      <td>-0.363076</td>\n",
       "      <td>0.304906</td>\n",
       "      <td>...</td>\n",
       "      <td>-0.052423</td>\n",
       "      <td>-0.298629</td>\n",
       "      <td>-0.049029</td>\n",
       "      <td>0.394439</td>\n",
       "      <td>-0.263861</td>\n",
       "      <td>-0.064249</td>\n",
       "      <td>-0.09105</td>\n",
       "      <td>-0.126535</td>\n",
       "      <td>0.463937</td>\n",
       "      <td>-0.302693</td>\n",
       "    </tr>\n",
       "    <tr>\n",
       "      <th>...</th>\n",
       "      <td>...</td>\n",
       "      <td>...</td>\n",
       "      <td>...</td>\n",
       "      <td>...</td>\n",
       "      <td>...</td>\n",
       "      <td>...</td>\n",
       "      <td>...</td>\n",
       "      <td>...</td>\n",
       "      <td>...</td>\n",
       "      <td>...</td>\n",
       "      <td>...</td>\n",
       "      <td>...</td>\n",
       "      <td>...</td>\n",
       "      <td>...</td>\n",
       "      <td>...</td>\n",
       "      <td>...</td>\n",
       "      <td>...</td>\n",
       "      <td>...</td>\n",
       "      <td>...</td>\n",
       "      <td>...</td>\n",
       "      <td>...</td>\n",
       "    </tr>\n",
       "    <tr>\n",
       "      <th>2914</th>\n",
       "      <td>-3.284214</td>\n",
       "      <td>-2.993401</td>\n",
       "      <td>-1.481920</td>\n",
       "      <td>1.226101</td>\n",
       "      <td>-0.035461</td>\n",
       "      <td>-0.682812</td>\n",
       "      <td>-0.804554</td>\n",
       "      <td>-1.418196</td>\n",
       "      <td>-0.363076</td>\n",
       "      <td>0.362780</td>\n",
       "      <td>...</td>\n",
       "      <td>-0.052423</td>\n",
       "      <td>-0.298629</td>\n",
       "      <td>-0.049029</td>\n",
       "      <td>0.394439</td>\n",
       "      <td>-0.263861</td>\n",
       "      <td>-0.064249</td>\n",
       "      <td>-0.09105</td>\n",
       "      <td>-0.126535</td>\n",
       "      <td>0.463937</td>\n",
       "      <td>-0.302693</td>\n",
       "    </tr>\n",
       "    <tr>\n",
       "      <th>2915</th>\n",
       "      <td>-3.284214</td>\n",
       "      <td>-3.036401</td>\n",
       "      <td>-1.481920</td>\n",
       "      <td>-0.435439</td>\n",
       "      <td>-0.035461</td>\n",
       "      <td>-0.682812</td>\n",
       "      <td>-0.804554</td>\n",
       "      <td>0.438424</td>\n",
       "      <td>-0.363076</td>\n",
       "      <td>0.031907</td>\n",
       "      <td>...</td>\n",
       "      <td>-0.052423</td>\n",
       "      <td>-0.298629</td>\n",
       "      <td>-0.049029</td>\n",
       "      <td>0.394439</td>\n",
       "      <td>3.789876</td>\n",
       "      <td>-0.064249</td>\n",
       "      <td>-0.09105</td>\n",
       "      <td>-0.126535</td>\n",
       "      <td>-2.155466</td>\n",
       "      <td>-0.302693</td>\n",
       "    </tr>\n",
       "    <tr>\n",
       "      <th>2916</th>\n",
       "      <td>2.549545</td>\n",
       "      <td>1.586172</td>\n",
       "      <td>-0.772552</td>\n",
       "      <td>1.226101</td>\n",
       "      <td>-0.365110</td>\n",
       "      <td>0.561757</td>\n",
       "      <td>-0.804554</td>\n",
       "      <td>0.967658</td>\n",
       "      <td>-0.363076</td>\n",
       "      <td>-3.015455</td>\n",
       "      <td>...</td>\n",
       "      <td>-0.052423</td>\n",
       "      <td>-0.298629</td>\n",
       "      <td>-0.049029</td>\n",
       "      <td>0.394439</td>\n",
       "      <td>3.789876</td>\n",
       "      <td>-0.064249</td>\n",
       "      <td>-0.09105</td>\n",
       "      <td>-0.126535</td>\n",
       "      <td>-2.155466</td>\n",
       "      <td>-0.302693</td>\n",
       "    </tr>\n",
       "    <tr>\n",
       "      <th>2917</th>\n",
       "      <td>-0.200527</td>\n",
       "      <td>0.311255</td>\n",
       "      <td>-0.772552</td>\n",
       "      <td>-0.435439</td>\n",
       "      <td>0.683917</td>\n",
       "      <td>0.370284</td>\n",
       "      <td>-0.804554</td>\n",
       "      <td>0.535612</td>\n",
       "      <td>-0.363076</td>\n",
       "      <td>0.390461</td>\n",
       "      <td>...</td>\n",
       "      <td>-0.052423</td>\n",
       "      <td>-0.298629</td>\n",
       "      <td>-0.049029</td>\n",
       "      <td>0.394439</td>\n",
       "      <td>-0.263861</td>\n",
       "      <td>-0.064249</td>\n",
       "      <td>-0.09105</td>\n",
       "      <td>-0.126535</td>\n",
       "      <td>0.463937</td>\n",
       "      <td>-0.302693</td>\n",
       "    </tr>\n",
       "    <tr>\n",
       "      <th>2918</th>\n",
       "      <td>0.310504</td>\n",
       "      <td>0.152052</td>\n",
       "      <td>0.646183</td>\n",
       "      <td>-0.435439</td>\n",
       "      <td>0.716427</td>\n",
       "      <td>0.466021</td>\n",
       "      <td>0.932048</td>\n",
       "      <td>0.807042</td>\n",
       "      <td>-0.363076</td>\n",
       "      <td>-0.080895</td>\n",
       "      <td>...</td>\n",
       "      <td>-0.052423</td>\n",
       "      <td>-0.298629</td>\n",
       "      <td>-0.049029</td>\n",
       "      <td>0.394439</td>\n",
       "      <td>-0.263861</td>\n",
       "      <td>-0.064249</td>\n",
       "      <td>-0.09105</td>\n",
       "      <td>-0.126535</td>\n",
       "      <td>0.463937</td>\n",
       "      <td>-0.302693</td>\n",
       "    </tr>\n",
       "  </tbody>\n",
       "</table>\n",
       "<p>2919 rows × 317 columns</p>\n",
       "</div>"
      ],
      "text/plain": [
       "      LotFrontage   LotArea  OverallQual  OverallCond  YearBuilt  \\\n",
       "0       -0.064176 -0.103719     0.646183    -0.435439   1.040634   \n",
       "1        0.536077  0.146544    -0.063185     1.906370   0.161526   \n",
       "2        0.066112  0.457629     0.646183    -0.435439   0.975922   \n",
       "3       -0.295084  0.136301     0.646183    -0.435439  -1.869638   \n",
       "4        0.677357  0.922662     1.355551    -0.435439   0.943542   \n",
       "...           ...       ...          ...          ...        ...   \n",
       "2914    -3.284214 -2.993401    -1.481920     1.226101  -0.035461   \n",
       "2915    -3.284214 -3.036401    -1.481920    -0.435439  -0.035461   \n",
       "2916     2.549545  1.586172    -0.772552     1.226101  -0.365110   \n",
       "2917    -0.200527  0.311255    -0.772552    -0.435439   0.683917   \n",
       "2918     0.310504  0.152052     0.646183    -0.435439   0.716427   \n",
       "\n",
       "      YearRemodAdd  MasVnrArea  BsmtFinSF1  BsmtFinSF2  BsmtUnfSF  ...  \\\n",
       "0         0.896833    1.210174    0.783229   -0.363076  -0.326949  ...   \n",
       "1        -0.395604   -0.804554    0.892444   -0.363076   0.013428  ...   \n",
       "2         0.848965    1.137926    0.658154   -0.363076   0.240016  ...   \n",
       "3        -0.682812   -0.804554    0.386923   -0.363076   0.356870  ...   \n",
       "4         0.753229    1.430432    0.758108   -0.363076   0.304906  ...   \n",
       "...            ...         ...         ...         ...        ...  ...   \n",
       "2914     -0.682812   -0.804554   -1.418196   -0.363076   0.362780  ...   \n",
       "2915     -0.682812   -0.804554    0.438424   -0.363076   0.031907  ...   \n",
       "2916      0.561757   -0.804554    0.967658   -0.363076  -3.015455  ...   \n",
       "2917      0.370284   -0.804554    0.535612   -0.363076   0.390461  ...   \n",
       "2918      0.466021    0.932048    0.807042   -0.363076  -0.080895  ...   \n",
       "\n",
       "      SaleType_ConLw  SaleType_New  SaleType_Oth  SaleType_WD  \\\n",
       "0          -0.052423     -0.298629     -0.049029     0.394439   \n",
       "1          -0.052423     -0.298629     -0.049029     0.394439   \n",
       "2          -0.052423     -0.298629     -0.049029     0.394439   \n",
       "3          -0.052423     -0.298629     -0.049029     0.394439   \n",
       "4          -0.052423     -0.298629     -0.049029     0.394439   \n",
       "...              ...           ...           ...          ...   \n",
       "2914       -0.052423     -0.298629     -0.049029     0.394439   \n",
       "2915       -0.052423     -0.298629     -0.049029     0.394439   \n",
       "2916       -0.052423     -0.298629     -0.049029     0.394439   \n",
       "2917       -0.052423     -0.298629     -0.049029     0.394439   \n",
       "2918       -0.052423     -0.298629     -0.049029     0.394439   \n",
       "\n",
       "      SaleCondition_Abnorml  SaleCondition_AdjLand  SaleCondition_Alloca  \\\n",
       "0                 -0.263861              -0.064249              -0.09105   \n",
       "1                 -0.263861              -0.064249              -0.09105   \n",
       "2                 -0.263861              -0.064249              -0.09105   \n",
       "3                  3.789876              -0.064249              -0.09105   \n",
       "4                 -0.263861              -0.064249              -0.09105   \n",
       "...                     ...                    ...                   ...   \n",
       "2914              -0.263861              -0.064249              -0.09105   \n",
       "2915               3.789876              -0.064249              -0.09105   \n",
       "2916               3.789876              -0.064249              -0.09105   \n",
       "2917              -0.263861              -0.064249              -0.09105   \n",
       "2918              -0.263861              -0.064249              -0.09105   \n",
       "\n",
       "      SaleCondition_Family  SaleCondition_Normal  SaleCondition_Partial  \n",
       "0                -0.126535              0.463937              -0.302693  \n",
       "1                -0.126535              0.463937              -0.302693  \n",
       "2                -0.126535              0.463937              -0.302693  \n",
       "3                -0.126535             -2.155466              -0.302693  \n",
       "4                -0.126535              0.463937              -0.302693  \n",
       "...                    ...                   ...                    ...  \n",
       "2914             -0.126535              0.463937              -0.302693  \n",
       "2915             -0.126535             -2.155466              -0.302693  \n",
       "2916             -0.126535             -2.155466              -0.302693  \n",
       "2917             -0.126535              0.463937              -0.302693  \n",
       "2918             -0.126535              0.463937              -0.302693  \n",
       "\n",
       "[2919 rows x 317 columns]"
      ]
     },
     "execution_count": 25,
     "metadata": {},
     "output_type": "execute_result"
    }
   ],
   "source": [
    "data2"
   ]
  },
  {
   "cell_type": "markdown",
   "id": "dda65f21",
   "metadata": {
    "papermill": {
     "duration": 0.058142,
     "end_time": "2022-02-25T21:36:11.653188",
     "exception": false,
     "start_time": "2022-02-25T21:36:11.595046",
     "status": "completed"
    },
    "tags": []
   },
   "source": [
    "**Target Transformation**"
   ]
  },
  {
   "cell_type": "code",
   "execution_count": 26,
   "id": "7fb68e10",
   "metadata": {
    "execution": {
     "iopub.execute_input": "2022-02-25T21:36:11.773916Z",
     "iopub.status.busy": "2022-02-25T21:36:11.773170Z",
     "iopub.status.idle": "2022-02-25T21:36:12.339036Z",
     "shell.execute_reply": "2022-02-25T21:36:12.339533Z",
     "shell.execute_reply.started": "2022-02-25T21:26:48.282834Z"
    },
    "papermill": {
     "duration": 0.628157,
     "end_time": "2022-02-25T21:36:12.339743",
     "exception": false,
     "start_time": "2022-02-25T21:36:11.711586",
     "status": "completed"
    },
    "tags": []
   },
   "outputs": [
    {
     "name": "stderr",
     "output_type": "stream",
     "text": [
      "/opt/conda/lib/python3.7/site-packages/seaborn/distributions.py:2619: FutureWarning: `distplot` is a deprecated function and will be removed in a future version. Please adapt your code to use either `displot` (a figure-level function with similar flexibility) or `histplot` (an axes-level function for histograms).\n",
      "  warnings.warn(msg, FutureWarning)\n",
      "/opt/conda/lib/python3.7/site-packages/seaborn/distributions.py:2619: FutureWarning: `distplot` is a deprecated function and will be removed in a future version. Please adapt your code to use either `displot` (a figure-level function with similar flexibility) or `histplot` (an axes-level function for histograms).\n",
      "  warnings.warn(msg, FutureWarning)\n"
     ]
    },
    {
     "data": {
      "image/png": "[encoded data removed]",
      "text/plain": [
       "<Figure size 1440x720 with 2 Axes>"
      ]
     },
     "metadata": {
      "needs_background": "light"
     },
     "output_type": "display_data"
    }
   ],
   "source": [
    "plt.figure(figsize=(20, 10))\n",
    "\n",
    "plt.subplot(1 ,2, 1)\n",
    "sns.distplot(target, kde=True, fit=scipy.stats.norm)\n",
    "plt.title(\"Without Log Transform\")\n",
    "\n",
    "plt.subplot(1 ,2, 2)\n",
    "sns.distplot(np.log(target), kde=True, fit=scipy.stats.norm)\n",
    "plt.xlabel(\"Log Sale Price\")\n",
    "plt.title(\"With Log Transform\")\n",
    "\n",
    "plt.show()"
   ]
  },
  {
   "cell_type": "code",
   "execution_count": 27,
   "id": "24ac3d04",
   "metadata": {
    "execution": {
     "iopub.execute_input": "2022-02-25T21:36:12.471250Z",
     "iopub.status.busy": "2022-02-25T21:36:12.470585Z",
     "iopub.status.idle": "2022-02-25T21:36:12.473115Z",
     "shell.execute_reply": "2022-02-25T21:36:12.473609Z",
     "shell.execute_reply.started": "2022-02-25T21:26:48.812728Z"
    },
    "papermill": {
     "duration": 0.07194,
     "end_time": "2022-02-25T21:36:12.473782",
     "exception": false,
     "start_time": "2022-02-25T21:36:12.401842",
     "status": "completed"
    },
    "tags": []
   },
   "outputs": [
    {
     "data": {
      "text/plain": [
       "0       208500.0\n",
       "1       181500.0\n",
       "2       223500.0\n",
       "3       140000.0\n",
       "4       250000.0\n",
       "          ...   \n",
       "1455    175000.0\n",
       "1456    210000.0\n",
       "1457    266500.0\n",
       "1458    142125.0\n",
       "1459    147500.0\n",
       "Name: SalePrice, Length: 1460, dtype: float64"
      ]
     },
     "execution_count": 27,
     "metadata": {},
     "output_type": "execute_result"
    }
   ],
   "source": [
    "log_target = np.log(target)\n",
    "np.exp(log_target)"
   ]
  },
  {
   "cell_type": "markdown",
   "id": "e2d44197",
   "metadata": {
    "papermill": {
     "duration": 0.061497,
     "end_time": "2022-02-25T21:36:12.597602",
     "exception": false,
     "start_time": "2022-02-25T21:36:12.536105",
     "status": "completed"
    },
    "tags": []
   },
   "source": [
    "**Split the train and test data**"
   ]
  },
  {
   "cell_type": "code",
   "execution_count": 28,
   "id": "4454421a",
   "metadata": {
    "execution": {
     "iopub.execute_input": "2022-02-25T21:36:12.726234Z",
     "iopub.status.busy": "2022-02-25T21:36:12.725546Z",
     "iopub.status.idle": "2022-02-25T21:36:12.734155Z",
     "shell.execute_reply": "2022-02-25T21:36:12.734696Z",
     "shell.execute_reply.started": "2022-02-25T21:26:48.821665Z"
    },
    "papermill": {
     "duration": 0.073905,
     "end_time": "2022-02-25T21:36:12.734871",
     "exception": false,
     "start_time": "2022-02-25T21:36:12.660966",
     "status": "completed"
    },
    "tags": []
   },
   "outputs": [],
   "source": [
    "train_final = data2.loc[:train0.index.max(), :].copy()\n",
    "test_final = data2.loc[train0.index.max() + 1:, :].reset_index(drop=True).copy()"
   ]
  },
  {
   "cell_type": "code",
   "execution_count": 29,
   "id": "1af80a42",
   "metadata": {
    "execution": {
     "iopub.execute_input": "2022-02-25T21:36:12.864947Z",
     "iopub.status.busy": "2022-02-25T21:36:12.864227Z",
     "iopub.status.idle": "2022-02-25T21:36:12.866603Z",
     "shell.execute_reply": "2022-02-25T21:36:12.866054Z",
     "shell.execute_reply.started": "2022-02-25T21:26:48.837288Z"
    },
    "papermill": {
     "duration": 0.068858,
     "end_time": "2022-02-25T21:36:12.866762",
     "exception": false,
     "start_time": "2022-02-25T21:36:12.797904",
     "status": "completed"
    },
    "tags": []
   },
   "outputs": [],
   "source": [
    "x_train = train_final\n",
    "y_train = train0['SalePrice']"
   ]
  },
  {
   "cell_type": "code",
   "execution_count": 30,
   "id": "532b172d",
   "metadata": {
    "execution": {
     "iopub.execute_input": "2022-02-25T21:36:12.993312Z",
     "iopub.status.busy": "2022-02-25T21:36:12.992642Z",
     "iopub.status.idle": "2022-02-25T21:36:14.116878Z",
     "shell.execute_reply": "2022-02-25T21:36:14.116308Z",
     "shell.execute_reply.started": "2022-02-25T21:26:48.847355Z"
    },
    "papermill": {
     "duration": 1.188643,
     "end_time": "2022-02-25T21:36:14.117036",
     "exception": false,
     "start_time": "2022-02-25T21:36:12.928393",
     "status": "completed"
    },
    "tags": []
   },
   "outputs": [
    {
     "data": {
      "text/plain": [
       "XGBRegressor(base_score=0.5, booster='gbtree', colsample_bylevel=1,\n",
       "             colsample_bynode=1, colsample_bytree=1, enable_categorical=False,\n",
       "             gamma=0, gpu_id=-1, importance_type=None,\n",
       "             interaction_constraints='', learning_rate=0.300000012,\n",
       "             max_delta_step=0, max_depth=6, min_child_weight=1, missing=nan,\n",
       "             monotone_constraints='()', n_estimators=100, n_jobs=4,\n",
       "             num_parallel_tree=1, predictor='auto', random_state=0, reg_alpha=0,\n",
       "             reg_lambda=1, scale_pos_weight=1, subsample=1, tree_method='exact',\n",
       "             validate_parameters=1, verbosity=None)"
      ]
     },
     "execution_count": 30,
     "metadata": {},
     "output_type": "execute_result"
    }
   ],
   "source": [
    "# apply xgboost regressor\n",
    "import xgboost\n",
    "classifier=xgboost.XGBRegressor()\n",
    "classifier.fit(x_train,y_train)"
   ]
  },
  {
   "cell_type": "code",
   "execution_count": 31,
   "id": "811ceb9c",
   "metadata": {
    "execution": {
     "iopub.execute_input": "2022-02-25T21:36:14.243779Z",
     "iopub.status.busy": "2022-02-25T21:36:14.243142Z",
     "iopub.status.idle": "2022-02-25T21:36:14.274046Z",
     "shell.execute_reply": "2022-02-25T21:36:14.273470Z",
     "shell.execute_reply.started": "2022-02-25T21:26:49.934169Z"
    },
    "papermill": {
     "duration": 0.095704,
     "end_time": "2022-02-25T21:36:14.274177",
     "exception": false,
     "start_time": "2022-02-25T21:36:14.178473",
     "status": "completed"
    },
    "tags": []
   },
   "outputs": [],
   "source": [
    "y_pred=classifier.predict(test_final)"
   ]
  },
  {
   "cell_type": "code",
   "execution_count": 32,
   "id": "50c550d8",
   "metadata": {
    "execution": {
     "iopub.execute_input": "2022-02-25T21:36:14.403595Z",
     "iopub.status.busy": "2022-02-25T21:36:14.402806Z",
     "iopub.status.idle": "2022-02-25T21:36:14.407188Z",
     "shell.execute_reply": "2022-02-25T21:36:14.407732Z",
     "shell.execute_reply.started": "2022-02-25T21:27:03.935887Z"
    },
    "papermill": {
     "duration": 0.071701,
     "end_time": "2022-02-25T21:36:14.407904",
     "exception": false,
     "start_time": "2022-02-25T21:36:14.336203",
     "status": "completed"
    },
    "tags": []
   },
   "outputs": [
    {
     "data": {
      "text/plain": [
       "array([126552.54, 159018.17, 185009.02, ..., 171390.33, 110372.22,\n",
       "       209576.81], dtype=float32)"
      ]
     },
     "execution_count": 32,
     "metadata": {},
     "output_type": "execute_result"
    }
   ],
   "source": [
    "y_pred"
   ]
  },
  {
   "cell_type": "code",
   "execution_count": 33,
   "id": "18a7168e",
   "metadata": {
    "execution": {
     "iopub.execute_input": "2022-02-25T21:36:14.537859Z",
     "iopub.status.busy": "2022-02-25T21:36:14.537005Z",
     "iopub.status.idle": "2022-02-25T21:36:14.557544Z",
     "shell.execute_reply": "2022-02-25T21:36:14.558190Z",
     "shell.execute_reply.started": "2022-02-25T21:35:20.076901Z"
    },
    "papermill": {
     "duration": 0.087573,
     "end_time": "2022-02-25T21:36:14.558356",
     "exception": false,
     "start_time": "2022-02-25T21:36:14.470783",
     "status": "completed"
    },
    "tags": []
   },
   "outputs": [],
   "source": [
    "#Create Sample Submission File and Submit\n",
    "pred=pd.DataFrame(y_pred)\n",
    "sub_data=pd.read_csv('../input/house-prices-advanced-regression-techniques/sample_submission.csv')\n",
    "datasets=pd.concat([sub_data['Id'],pred],axis=1)\n",
    "datasets.columns=['Id','SalePrice']\n",
    "datasets.to_csv('sample_submission.csv',index=False)"
   ]
  }
 ],
 "metadata": {
  "kernelspec": {
   "display_name": "Python 3",
   "language": "python",
   "name": "python3"
  },
  "language_info": {
   "codemirror_mode": {
    "name": "ipython",
    "version": 3
   },
   "file_extension": ".py",
   "mimetype": "text/x-python",
   "name": "python",
   "nbconvert_exporter": "python",
   "pygments_lexer": "ipython3",
   "version": "3.7.12"
  },
  "papermill": {
   "default_parameters": {},
   "duration": 22.666413,
   "end_time": "2022-02-25T21:36:15.430402",
   "environment_variables": {},
   "exception": null,
   "input_path": "__notebook__.ipynb",
   "output_path": "__notebook__.ipynb",
   "parameters": {},
   "start_time": "2022-02-25T21:35:52.763989",
   "version": "2.3.3"
  }
 },
 "nbformat": 4,
 "nbformat_minor": 5
}
